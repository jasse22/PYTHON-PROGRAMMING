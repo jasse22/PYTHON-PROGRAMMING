{
 "cells": [
  {
   "cell_type": "markdown",
   "id": "7aa5f878-b933-4308-a24e-241775a9279f",
   "metadata": {},
   "source": [
    "# Lecture 3"
   ]
  },
  {
   "cell_type": "markdown",
   "id": "c3fedebf-6191-449e-b039-b6df5476eaf0",
   "metadata": {},
   "source": [
    "# Review Question 1"
   ]
  },
  {
   "cell_type": "code",
   "execution_count": 1,
   "id": "14c685a1-a051-4146-935c-edfb12bf4480",
   "metadata": {},
   "outputs": [
    {
     "name": "stdout",
     "output_type": "stream",
     "text": [
      "The cube of 2 is 8.\n",
      "The cube of 3 is 27.\n",
      "The cube of 4 is 64.\n"
     ]
    }
   ],
   "source": [
    "#1. Write a function called cube[] with one number parameter and returns the value of the number raised to the third power. Test the function by displaying the result of calling your cube[] function on a few different numbers.\n",
    "\n",
    "def cube(num):\n",
    "    \"\"\"Returns the cube of the given number.\"\"\"\n",
    "    return num ** 3\n",
    "\n",
    "# Testing the function with different numbers\n",
    "print(f\"The cube of 2 is {cube(2)}.\")\n",
    "print(f\"The cube of 3 is {cube(3)}.\")\n",
    "print(f\"The cube of 4 is {cube(4)}.\")\n",
    "\n"
   ]
  },
  {
   "cell_type": "code",
   "execution_count": 1,
   "id": "bc5a209f-cfd6-41bd-8503-faa5cbcc5c06",
   "metadata": {},
   "outputs": [
    {
     "name": "stdout",
     "output_type": "stream",
     "text": [
      "Hello Jessa, \n"
     ]
    }
   ],
   "source": [
    "#2. Write a function called greet[] that takes one string parameter called name and displays the text \"Hello <name>!\", where <name> is replaced with the value of the name parameter.\n",
    "\n",
    "def greet(name):\n",
    "    print(f\"Hello {name}, \")\n",
    "\n",
    "greet(\"Jessa\")\n"
   ]
  },
  {
   "cell_type": "markdown",
   "id": "21885e01-3c9a-4739-a7ae-2e6e30e307e3",
   "metadata": {},
   "source": [
    "# Challenge: Convert Temperatures"
   ]
  },
  {
   "cell_type": "code",
   "execution_count": 7,
   "id": "74553a4a-df61-4b72-bf51-3ac30a451350",
   "metadata": {},
   "outputs": [
    {
     "name": "stdout",
     "output_type": "stream",
     "text": [
      "Enter a temperature in degrees F: 72 degrees F = 22.22 degrees C\n",
      "Enter a temperature in degrees C: 37.0 degrees C = 98.60 degrees F\n"
     ]
    }
   ],
   "source": [
    "#1&2. Write a function name convert_cel_to_far[] which takes one float parameter representing degress Celsius and returns a float representing the same temperature in degrees Farenheit.\n",
    "\n",
    "def convert_cel_to_far(celsius):\n",
    "    \n",
    "    #Converts a temperature from Celsius to Fahrenheit.\n",
    "    #Formula: (°C × 9/5) + 32\n",
    "    \n",
    "    return (celsius * 9 / 5) + 32\n",
    "f_input1 = 72\n",
    "c_output1 = convert_far_to_cel(f_input1)\n",
    "print(f\"Enter a temperature in degrees F: {f_input1} degrees F = {c_output1:.2f} degrees C\")\n",
    "\n",
    "def convert_far_to_cel(fahrenheit):\n",
    "\n",
    "    #Converts a temperature from Fahrenheit to Celsius.\n",
    "    #Formula: (°F − 32) × 5/9\n",
    "   \n",
    "    return (fahrenheit - 32) * 5 / 9\n",
    "c_input2 = 37.0\n",
    "f_output2 = convert_cel_to_far(c_input2)\n",
    "print(f\"Enter a temperature in degrees C: {c_input2} degrees C = {f_output2:.2f} degrees F\")\n"
   ]
  },
  {
   "cell_type": "markdown",
   "id": "b2a49103-329a-4090-bf3e-f1477d54f796",
   "metadata": {},
   "source": [
    "# Review Question 2"
   ]
  },
  {
   "cell_type": "code",
   "execution_count": 8,
   "id": "7e4c4334-25a4-4537-b84f-df81513c76c2",
   "metadata": {},
   "outputs": [
    {
     "name": "stdout",
     "output_type": "stream",
     "text": [
      "2\n",
      "3\n",
      "4\n",
      "5\n",
      "6\n",
      "7\n",
      "8\n",
      "9\n",
      "10\n"
     ]
    }
   ],
   "source": [
    "#1. 1.Write a for loop that prints out the integers 2 through 10, each on a new line, by using the range() function.\n",
    "for num in range(2, 11):\n",
    "    print(num)\n"
   ]
  },
  {
   "cell_type": "code",
   "execution_count": 9,
   "id": "2a436796-6f13-4683-8c14-a197f3522857",
   "metadata": {},
   "outputs": [
    {
     "name": "stdout",
     "output_type": "stream",
     "text": [
      "2\n",
      "3\n",
      "4\n",
      "5\n",
      "6\n",
      "7\n",
      "8\n",
      "9\n",
      "10\n"
     ]
    }
   ],
   "source": [
    "#2. 2.Use a while loop that prints out the integers 2 through 10 (Hint: You’ll need to create a new integer first.)\n",
    "num = 2\n",
    "while num <= 10:\n",
    "    print(num)\n",
    "    num += 1\n"
   ]
  },
  {
   "cell_type": "code",
   "execution_count": 10,
   "id": "04c0521d-f7a4-47ed-8495-e75cec0b6689",
   "metadata": {},
   "outputs": [
    {
     "name": "stdout",
     "output_type": "stream",
     "text": [
      "4\n",
      "8\n",
      "16\n"
     ]
    }
   ],
   "source": [
    "#3. 3.Write a function called doubles() that takes one number as its input and doubles that number. Then use the doubles() function in a loop to double the number 2 three times, displaying each result on a separate line. Here is some sample output:\n",
    "def doubles(num):\n",
    "    return num * 2\n",
    "\n",
    "num = 2\n",
    "for _ in range(3):\n",
    "    num = doubles(num)\n",
    "    print(num)\n"
   ]
  },
  {
   "cell_type": "code",
   "execution_count": null,
   "id": "385fcc17-ee34-4b3d-9577-09e49f99939d",
   "metadata": {},
   "outputs": [],
   "source": []
  }
 ],
 "metadata": {
  "kernelspec": {
   "display_name": "Python 3 (ipykernel)",
   "language": "python",
   "name": "python3"
  },
  "language_info": {
   "codemirror_mode": {
    "name": "ipython",
    "version": 3
   },
   "file_extension": ".py",
   "mimetype": "text/x-python",
   "name": "python",
   "nbconvert_exporter": "python",
   "pygments_lexer": "ipython3",
   "version": "3.13.5"
  }
 },
 "nbformat": 4,
 "nbformat_minor": 5
}
