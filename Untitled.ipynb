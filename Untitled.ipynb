{
 "cells": [
  {
   "cell_type": "markdown",
   "id": "537933c0-6a9e-4d2d-aaf8-94690f279a2f",
   "metadata": {},
   "source": [
    "# Review Question 1"
   ]
  },
  {
   "cell_type": "code",
   "execution_count": 10,
   "id": "339a88ce-beab-4530-ba28-df98ec59a9ef",
   "metadata": {},
   "outputs": [
    {
     "name": "stdout",
     "output_type": "stream",
     "text": [
      "14\n"
     ]
    }
   ],
   "source": [
    "#1.Create a string and print its length using the len() frunction.\n",
    "my_string = \"Hello, Python!\"\n",
    "print(len(my_string)) "
   ]
  },
  {
   "cell_type": "code",
   "execution_count": 11,
   "id": "8c951612-7417-4875-9ee8-c18586996c8e",
   "metadata": {},
   "outputs": [
    {
     "name": "stdout",
     "output_type": "stream",
     "text": [
      "Hello World\n"
     ]
    }
   ],
   "source": [
    "#2.Create two strings, concatenate them, and print the resulting string.\n",
    "string1 = \"Hello\"\n",
    "string2 = \"World\"\n",
    "result = string1 + \" \" + string2\n",
    "print(result)"
   ]
  },
  {
   "cell_type": "code",
   "execution_count": 12,
   "id": "17fca699-9365-4566-ab23-4a5b0b637158",
   "metadata": {},
   "outputs": [
    {
     "name": "stdout",
     "output_type": "stream",
     "text": [
      "Concatenated with space: Python Rocks\n"
     ]
    }
   ],
   "source": [
    "#3.Create two strings and use concatenation to add a space inbetween them. Then print the result.\n",
    "string3 = \"Python\"\n",
    "string4 = \"Rocks\"\n",
    "concatenated_with_space = string3 + \" \" + string4\n",
    "print(\"Concatenated with space:\", concatenated_with_space)"
   ]
  },
  {
   "cell_type": "code",
   "execution_count": 13,
   "id": "21eb1167-b6e3-4e84-b317-db5fe2115325",
   "metadata": {},
   "outputs": [
    {
     "name": "stdout",
     "output_type": "stream",
     "text": [
      "Extracted word using slice: fox\n"
     ]
    }
   ],
   "source": [
    "#4.Print the string \"fox\" by using slice notation on the string \"The quick brown fox jumped over the lazy dog. #1234567890!\" to specify the correct range of characters.\n",
    "original_string = \"The quick brown fox jumped over the lazy dog. #1234567890!\"\n",
    "fox_slice = original_string[16:19]  # Start at index 16, end at index 19 (not inclusive)\n",
    "print(\"Extracted word using slice:\", fox_slice)"
   ]
  },
  {
   "cell_type": "markdown",
   "id": "0e26ea79-b225-46d1-92ff-83cd4749f412",
   "metadata": {},
   "source": [
    "# Review Question 2"
   ]
  },
  {
   "cell_type": "code",
   "execution_count": 16,
   "id": "0d3d582c-c64f-4973-ab89-3b9c55d9a261",
   "metadata": {},
   "outputs": [
    {
     "name": "stdout",
     "output_type": "stream",
     "text": [
      "animals\n",
      "badger\n",
      "honey bee\n",
      "honeybadger\n"
     ]
    }
   ],
   "source": [
    "#1. Write a script that converts the following strings to lowercase: \"Animals\", \"Badger\", \"Honey Bee\", \"Honey Badger\".Print each lowercase string on a separate line.\n",
    "strings = [\"Animals\", \"Badger\", \"Honey Bee\", \"Honeybadger\"]\n",
    "for s in strings:\n",
    "    print(s.lower())"
   ]
  },
  {
   "cell_type": "code",
   "execution_count": 17,
   "id": "4cfd45a3-8b5c-47c1-aea5-f92c7418c13a",
   "metadata": {},
   "outputs": [
    {
     "name": "stdout",
     "output_type": "stream",
     "text": [
      "ANIMALS\n",
      "BADGER\n",
      "HONEY BEE\n",
      "HONEYBADGER\n"
     ]
    }
   ],
   "source": [
    "#2. Repeat Exercise 1, but convert each string to uppercase instead of lowercase.\n",
    "for s in strings:\n",
    "    print(s.upper())"
   ]
  },
  {
   "cell_type": "code",
   "execution_count": 18,
   "id": "d68aa840-468a-4d89-a887-db843704c6a1",
   "metadata": {},
   "outputs": [
    {
     "name": "stdout",
     "output_type": "stream",
     "text": [
      "Filet Mignon\n",
      "Brisket\n"
     ]
    }
   ],
   "source": [
    "#3. Write a script that removes whitespace from the following strings:\n",
    "string1 = \" Filet Mignon\"\n",
    "string2 = \"Brisket \"\n",
    "\n",
    "print(string1.strip()) \n",
    "print(string2.strip())"
   ]
  },
  {
   "cell_type": "code",
   "execution_count": 19,
   "id": "a9429a2c-4295-43c1-80e2-78f15adbf5ee",
   "metadata": {},
   "outputs": [
    {
     "name": "stdout",
     "output_type": "stream",
     "text": [
      "False\n",
      "True\n"
     ]
    }
   ],
   "source": [
    "#4.Write a script that prints out the result of .startswith(\"be\") on each of the following strings:\n",
    "string1 = \"Becomes\"\n",
    "string2 = \"becomes\"\n",
    "\n",
    "print(string1.startswith(\"be\"))  \n",
    "print(string2.startswith(\"be\"))"
   ]
  },
  {
   "cell_type": "code",
   "execution_count": 20,
   "id": "132d9d6e-b530-48b2-81dd-1071b688353a",
   "metadata": {},
   "outputs": [
    {
     "name": "stdout",
     "output_type": "stream",
     "text": [
      "True\n",
      "True\n"
     ]
    }
   ],
   "source": [
    "#5.Using the same strings from Exercise 4, write a script that uses string methods to alter each string so that .startswith(\"be\") returns True for all of them.\n",
    "string1 = \"Becomes\"\n",
    "string2 = \"becomes\"\n",
    "\n",
    "print(string1.lower().startswith(\"be\"))\n",
    "print(string2.lower().startswith(\"be\"))"
   ]
  },
  {
   "cell_type": "markdown",
   "id": "88e0b42a-09a4-4fc6-9538-d58c0f93370b",
   "metadata": {},
   "source": [
    "# Review Question 3"
   ]
  },
  {
   "cell_type": "code",
   "execution_count": 22,
   "id": "a7b45a8b-b8c2-4f67-9a02-5e9f1d690ed8",
   "metadata": {},
   "outputs": [
    {
     "name": "stdin",
     "output_type": "stream",
     "text": [
      "Enter something:  jessa\n"
     ]
    },
    {
     "name": "stdout",
     "output_type": "stream",
     "text": [
      "You entered: jessa\n"
     ]
    }
   ],
   "source": [
    "#1.Write a script that takes input from the user and displays that input back.\n",
    "user_input = input(\"Enter something: \")\n",
    "print(\"You entered:\", user_input)"
   ]
  },
  {
   "cell_type": "code",
   "execution_count": 24,
   "id": "89cd12a3-bdfc-41b3-8a78-f74b2136a53a",
   "metadata": {},
   "outputs": [
    {
     "name": "stdin",
     "output_type": "stream",
     "text": [
      "Enter something:  HELLO, jessa\n"
     ]
    },
    {
     "name": "stdout",
     "output_type": "stream",
     "text": [
      "In lowercase: hello, jessa\n"
     ]
    }
   ],
   "source": [
    "#2.Write a script that takes input from the user and displays the input in lowercase.\n",
    "user_input = input(\"Enter something: \")\n",
    "print(\"In lowercase:\", user_input.lower())\n"
   ]
  },
  {
   "cell_type": "code",
   "execution_count": 25,
   "id": "08e64d40-3a33-42b5-b819-8cec3dba1ad5",
   "metadata": {},
   "outputs": [
    {
     "name": "stdin",
     "output_type": "stream",
     "text": [
      "Enter something:  hello jessa\n"
     ]
    },
    {
     "name": "stdout",
     "output_type": "stream",
     "text": [
      "Number of characters entered: 11\n"
     ]
    }
   ],
   "source": [
    "#3.Write a script that takes input from the user and displays the number of characters inputted.\n",
    "user_input = input(\"Enter something: \")\n",
    "print(\"Number of characters entered:\", len(user_input))"
   ]
  },
  {
   "cell_type": "markdown",
   "id": "5ccd36f3-bf03-40d9-8e59-25d80e0a2835",
   "metadata": {},
   "source": [
    "# Review Question 4"
   ]
  },
  {
   "cell_type": "code",
   "execution_count": 30,
   "id": "ebc24dcd-5632-4267-911e-37c03ab7fdd8",
   "metadata": {},
   "outputs": [
    {
     "name": "stdin",
     "output_type": "stream",
     "text": [
      "Tell me your name:  jasse\n"
     ]
    },
    {
     "name": "stdout",
     "output_type": "stream",
     "text": [
      "The First letter of your name is: J\n"
     ]
    }
   ],
   "source": [
    "#1.Write a script named first_letter.py that first prompts the user for input by using the string \"Tell me your name:\" The script should then determine the first letter of the user’s input, convert that letter to upper-case, and display it back.\n",
    "name = input(\"Tell me your name: \")\n",
    "if name:  # check if the input is not empty\n",
    "    first_letter = name[0].upper()\n",
    "    print(\"The First letter of your name is:\", first_letter)\n",
    "else:\n",
    "    print(\"You didn't enter a name.\")"
   ]
  },
  {
   "cell_type": "markdown",
   "id": "5c993741-1886-43df-9d8b-47e0373d24c0",
   "metadata": {},
   "source": [
    "# Review Question 5"
   ]
  },
  {
   "cell_type": "code",
   "execution_count": 32,
   "id": "1890caab-a064-403a-8124-459e734ce9bd",
   "metadata": {},
   "outputs": [
    {
     "name": "stdout",
     "output_type": "stream",
     "text": [
      "Result of multiplying: 210\n"
     ]
    }
   ],
   "source": [
    "#1.Create a string containing an integer, then convert that string into an actual integer object using int(). Test that your new object is a number by multiplying it by another number and displaying the result.\n",
    "int_str = \"42\"\n",
    "int_num = int(int_str)  # convert string to integer\n",
    "result = int_num * 5\n",
    "print(\"Result of multiplying:\", result)"
   ]
  },
  {
   "cell_type": "code",
   "execution_count": 33,
   "id": "d79a606e-718c-4c97-9359-7a4b94f9434e",
   "metadata": {},
   "outputs": [
    {
     "name": "stdout",
     "output_type": "stream",
     "text": [
      "Result of multiplying: 6.28\n"
     ]
    }
   ],
   "source": [
    "#2.Repeat the previous exercise, but use a floating-point number and float().\n",
    "float_str = \"3.14\"\n",
    "float_num = float(float_str)  # convert string to float\n",
    "result = float_num * 2\n",
    "print(\"Result of multiplying:\", result)"
   ]
  },
  {
   "cell_type": "code",
   "execution_count": 34,
   "id": "ef09cfe6-bd74-4c68-8088-b8b4d384e979",
   "metadata": {},
   "outputs": [
    {
     "name": "stdout",
     "output_type": "stream",
     "text": [
      "Age: 30\n"
     ]
    }
   ],
   "source": [
    "#3.Create a string object and an integer object, then display them side by side with a single print statement by using the str() function.\n",
    "my_str = \"Age:\"\n",
    "my_int = 30\n",
    "print(my_str + \" \" + str(my_int))  # convert int to string for concatenation\n"
   ]
  },
  {
   "cell_type": "code",
   "execution_count": 35,
   "id": "7a1a16b3-a6ad-4d54-9f63-ee98d97f558e",
   "metadata": {},
   "outputs": [
    {
     "name": "stdin",
     "output_type": "stream",
     "text": [
      "Enter first number:  5\n",
      "Enter second number:  6\n"
     ]
    },
    {
     "name": "stdout",
     "output_type": "stream",
     "text": [
      "The product is: 30.0\n"
     ]
    }
   ],
   "source": [
    "#4.Write a script that gets two numbers from the user using the input() function twice, multiplies the numbers together, and displays the result.\n",
    "num1 = input(\"Enter First number: \")\n",
    "num2 = input(\"Enter Second number: \")\n",
    "\n",
    "# Convert inputs to float for flexibility (works for integers and decimals)\n",
    "num1_float = float(num1)\n",
    "num2_float = float(num2)\n",
    "\n",
    "product = num1_float * num2_float\n",
    "\n",
    "print(\"The product is:\", product)"
   ]
  },
  {
   "cell_type": "markdown",
   "id": "70dd39e3-de8d-436a-9e8a-1826013d4992",
   "metadata": {},
   "source": [
    "# Review Question 6"
   ]
  },
  {
   "cell_type": "code",
   "execution_count": 36,
   "id": "5502c18f-8578-44c5-a652-9585d90799d0",
   "metadata": {},
   "outputs": [
    {
     "name": "stdout",
     "output_type": "stream",
     "text": [
      "-1\n"
     ]
    }
   ],
   "source": [
    "#1.In one line of code, display the result of trying to .find() the substring \"a\" in the string \"AAA\".\n",
    "print(\"AAA\".find(\"a\"))"
   ]
  },
  {
   "cell_type": "code",
   "execution_count": 37,
   "id": "e8144726-578a-4d24-a606-2fc5e169fba1",
   "metadata": {},
   "outputs": [
    {
     "name": "stdout",
     "output_type": "stream",
     "text": [
      "Somebody yaid yomething to Samantha.\n"
     ]
    }
   ],
   "source": [
    "#2.Replace every occurrence of the character \"s\" with \"y” in the string \"Somebody said something to Samantha.\".\n",
    "print(\"Somebody said something to Samantha.\".replace(\"s\", \"y\"))"
   ]
  },
  {
   "cell_type": "code",
   "execution_count": 38,
   "id": "6ab7c1bc-ff5f-4441-9996-f978a0b11911",
   "metadata": {},
   "outputs": [
    {
     "name": "stdin",
     "output_type": "stream",
     "text": [
      "Enter a string:  jasse\n",
      "Enter a letter to find:  s\n"
     ]
    },
    {
     "name": "stdout",
     "output_type": "stream",
     "text": [
      "Position of 's' in the string is: 2\n"
     ]
    }
   ],
   "source": [
    "#3.Write and test a script that accepts user input using the input() function and displays the result of trying to .find() a particular letter in that input.\n",
    "user_input = input(\"Enter a string: \")\n",
    "letter = input(\"Enter a letter to find: \")\n",
    "position = user_input.find(letter)\n",
    "print(f\"Position of '{letter}' in the string is:\", position)"
   ]
  },
  {
   "cell_type": "markdown",
   "id": "f757fabd-373d-4696-bf39-5550c6886d1a",
   "metadata": {},
   "source": [
    "# Review Question 7"
   ]
  },
  {
   "cell_type": "code",
   "execution_count": 39,
   "id": "cd5acd29-9228-46ed-9270-5d915a67fa59",
   "metadata": {},
   "outputs": [
    {
     "name": "stdin",
     "output_type": "stream",
     "text": [
      "Enter some text:  I like you so much\n"
     ]
    },
    {
     "name": "stdout",
     "output_type": "stream",
     "text": [
      "i 1ik3 y0u 50 much\n"
     ]
    }
   ],
   "source": [
    "#Write a script called translate.py that asks the user for some input with the following prompt: Enter some text:. Then use the .replace() method to convert the text entered by the user into “leetspeak” by making the following changes to lower-case letters:\n",
    "#• The letter a becomes 4\n",
    "#• The letter b becomes 8\n",
    "#• The letter e becomes 3\n",
    "#• The letter l becomes 1\n",
    "#• The letter o becomes 0\n",
    "#• The letter s becomes 5\n",
    "#• The letter t becomes 7\n",
    "#Your program should then display the resulting string as output. Below is a sample run of the program: Enter some text: I like to eat eggs and spam. I 1ik3 70 347 3gg5 4nd 5p4m.\n",
    "\n",
    "text = input(\"Enter some text: \")\n",
    "\n",
    "# Convert text to lowercase to apply replacements only to lowercase letters\n",
    "text = text.lower()\n",
    "\n",
    "# Replace letters according to leetspeak rules\n",
    "text = text.replace('a', '4')\n",
    "text = text.replace('b', '8')\n",
    "text = text.replace('e', '3')\n",
    "text = text.replace('l', '1')\n",
    "text = text.replace('o', '0')\n",
    "text = text.replace('s', '5')\n",
    "text = text.replace('t', '7')\n",
    "\n",
    "print(text)"
   ]
  },
  {
   "cell_type": "code",
   "execution_count": null,
   "id": "aaa239b6-8fcd-4960-bbd7-eeba2a04dfef",
   "metadata": {},
   "outputs": [],
   "source": []
  }
 ],
 "metadata": {
  "kernelspec": {
   "display_name": "Python 3 (ipykernel)",
   "language": "python",
   "name": "python3"
  },
  "language_info": {
   "codemirror_mode": {
    "name": "ipython",
    "version": 3
   },
   "file_extension": ".py",
   "mimetype": "text/x-python",
   "name": "python",
   "nbconvert_exporter": "python",
   "pygments_lexer": "ipython3",
   "version": "3.13.5"
  }
 },
 "nbformat": 4,
 "nbformat_minor": 5
}
