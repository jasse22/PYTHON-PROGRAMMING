{
 "cells": [
  {
   "cell_type": "markdown",
   "id": "c57cbac0-1a33-4839-80c5-b9a9541f2c63",
   "metadata": {},
   "source": [
    "# Midterm (3rd Year IT): Coding + LLM Critique"
   ]
  },
  {
   "cell_type": "markdown",
   "id": "409ee3ea-36ce-47d9-ba1f-c73940d399fa",
   "metadata": {},
   "source": [
    "# Dinopol, Jessa Mae Jean D."
   ]
  },
  {
   "cell_type": "markdown",
   "id": "7c93c62e-1ab6-4882-8a7f-28b0f471ec07",
   "metadata": {},
   "source": [
    "# Q1. String Normalizer & Finder."
   ]
  },
  {
   "cell_type": "raw",
   "id": "1b9e65a3-3f90-48e7-9e73-f33fca3b3130",
   "metadata": {},
   "source": [
    " Write a function normalize_and_find(text: str, needle: str) -> int that: (1) trims whitespace on both ends, (2) converts to lowercase, then (3) returns the index of the first occurrence of needle using a safe search (return −1 if not found). Discuss alternatives (find vs. index), and how your choice affects error handling. Anchor concepts: stripping, case conversion, find/replace, string immutability. Reference: :contentReference[oaicite:6]index=6\n"
   ]
  },
  {
   "cell_type": "markdown",
   "id": "15f912d5-6123-4d27-a28e-364e7cdff3ab",
   "metadata": {},
   "source": [
    "# Prompt (paste verbatim)"
   ]
  },
  {
   "cell_type": "raw",
   "id": "7c25079a-401e-4070-894e-d82d0d1041c1",
   "metadata": {},
   "source": [
    " Write a Python function normalize_and_find(text: str, needle: str) -> int that trims whitespace on both ends of text, converts to lowercase, then returns the index of the first occurrence of needle using a safe search (return -1 if not found)."
   ]
  },
  {
   "cell_type": "markdown",
   "id": "74cd5229-bda0-425c-9476-46f1d983e087",
   "metadata": {},
   "source": [
    "# ChatGPT Code (paste verbatim)"
   ]
  },
  {
   "cell_type": "code",
   "execution_count": 1,
   "id": "85a5ab2d-17e6-472e-917c-5700f3c80bda",
   "metadata": {},
   "outputs": [
    {
     "name": "stdout",
     "output_type": "stream",
     "text": [
      "6\n"
     ]
    }
   ],
   "source": [
    "def normalize_and_find(text, needle):\n",
    "    t = text.strip().lower()\n",
    "    return t.find(needle.lower())\n",
    "\n",
    "print(normalize_and_find(\"  Hello World  \", \"world\"))\n"
   ]
  },
  {
   "cell_type": "markdown",
   "id": "f8ad25bf-0665-4167-b08c-cdf790f0a2fc",
   "metadata": {},
   "source": [
    "# Critique"
   ]
  },
  {
   "cell_type": "raw",
   "id": "f1f044e5-3cb4-4488-99fe-8e4bc0e4abae",
   "metadata": {},
   "source": [
    "Correctness: Performs trimming, lowercasing, and substring search accurately, returning −1 if not found.\n",
    "\n",
    "Complexity: Executes in O(n + m) time with O(n) space from creating lowercase copies.\n",
    "\n",
    "Robustness: Does not handle non-string inputs and lacks input validation.\n",
    "\n",
    "Readability: Code is straightforward but would benefit from clearer variable names and comments.\n",
    "\n",
    "Faithfulness: Applies .strip(), .lower(), and .find() exactly as demonstrated in lectures.\n"
   ]
  },
  {
   "cell_type": "markdown",
   "id": "ededfe97-5ea5-4a3a-b307-75be2fa5238c",
   "metadata": {},
   "source": [
    "# Improved Code:"
   ]
  },
  {
   "cell_type": "code",
   "execution_count": 2,
   "id": "40f028dc-82ef-42f8-a0bd-07107a4179ce",
   "metadata": {},
   "outputs": [
    {
     "name": "stdout",
     "output_type": "stream",
     "text": [
      "Q1 tests passed.\n"
     ]
    }
   ],
   "source": [
    "def normalize_and_find(text: str, needle: str) -> int:\n",
    "    \"\"\"Trim, lowercase, and find the first occurrence of `needle` in `text` (case-insensitive).\n",
    "    Returns -1 if not found. Follows Python behavior for empty `needle` (index 0).\n",
    "    \"\"\"\n",
    "    text_norm = text.strip().lower()\n",
    "    return text_norm.find(needle.lower())\n",
    "\n",
    "\n",
    "# Quick tests\n",
    "if __name__ == \"__main__\":\n",
    "    assert normalize_and_find(\"  Hello World  \", \"world\") == 6\n",
    "    assert normalize_and_find(\"abc\", \"d\") == -1\n",
    "    assert normalize_and_find(\"   A B C   \", \"\") == 0\n",
    "    print(\"Q1 tests passed.\")\n"
   ]
  },
  {
   "cell_type": "markdown",
   "id": "78a490ae-c4c5-459c-acd0-b100ec1f8cfb",
   "metadata": {},
   "source": [
    "# Q2. Leetspeak Translator (Parametric)"
   ]
  },
  {
   "cell_type": "raw",
   "id": "5227c22d-3ae1-4f6f-939f-7983787be503",
   "metadata": {},
   "source": [
    "Generalize our leetspeak idea: write translate(text:\n",
    "str, mapping: dict[str,str]) -> str that applies a mapping (e.g., {’a’:’4’,’e’:’3’,...})\n",
    "over lowercase letters only, leaving others unchanged. Explain why strings are immutable and show an efficient approach (e.g., list join vs. repeated concatenation).\n",
    "Anchor concepts: replace, iteration strategies, efficiency. Reference: :contentReference[oaicite:7]index=7"
   ]
  },
  {
   "cell_type": "markdown",
   "id": "9e0f4bdc-67dc-48bb-bfef-49e1f82b0aaa",
   "metadata": {},
   "source": [
    "# Prompt (Paste verbatim)"
   ]
  },
  {
   "cell_type": "raw",
   "id": "0029e2ea-6069-471e-b5eb-f9252133449f",
   "metadata": {},
   "source": [
    "Write translate(text: str, mapping: dict[str,str]) -> str that applies mapping over lowercase letters only, leaving other characters unchanged. mapping maps single characters (lowercase letters) to replacement strings. Use an efficient approach (no repeated concatenation). Add tests showing behavior and explain briefly why strings are immutable and why join/list approach is used."
   ]
  },
  {
   "cell_type": "markdown",
   "id": "0a24f6f8-20eb-4ccb-9233-6d01653f2a7e",
   "metadata": {},
   "source": [
    "# ChatGPT Code (Paste verbatim)"
   ]
  },
  {
   "cell_type": "code",
   "execution_count": 3,
   "id": "5769b0f1-b6d4-444f-8388-2c676ae606ff",
   "metadata": {},
   "outputs": [
    {
     "name": "stdout",
     "output_type": "stream",
     "text": [
      "H3ll0 W0rld\n"
     ]
    }
   ],
   "source": [
    "def translate(text, mapping):\n",
    "    result = []\n",
    "    for ch in text:\n",
    "        if ch.islower() and ch in mapping:\n",
    "            result.append(mapping[ch])\n",
    "        else:\n",
    "            result.append(ch)\n",
    "    return ''.join(result)\n",
    "\n",
    "m = {'a': '4', 'e': '3', 'o': '0'}\n",
    "print(translate(\"Hello World\", m))"
   ]
  },
  {
   "cell_type": "markdown",
   "id": "fea0f044-032d-4146-bfb8-5447f3f4f9de",
   "metadata": {},
   "source": [
    "# Critique"
   ]
  },
  {
   "cell_type": "raw",
   "id": "487e2eb7-b396-4c75-8eac-eece46c34f72",
   "metadata": {},
   "source": [
    "Correctness: Works as intended, replacing only lowercase letters found in the mapping.\n",
    "\n",
    "Complexity: Runs in O(n) time and uses O(n) extra space for the list and joined string.\n",
    "\n",
    "Robustness: Lacks type checks and assumes mapping keys are single characters.\n",
    "\n",
    "Readability: Code is clear but could include type hints and a short docstring.\n",
    "\n",
    "Faithfulness: Correctly applies string immutability and efficient list-join usage from lectures."
   ]
  },
  {
   "cell_type": "markdown",
   "id": "a7d32f23-e9cd-49e4-a22a-e2eccb3b807c",
   "metadata": {},
   "source": [
    "# Improved Code"
   ]
  },
  {
   "cell_type": "code",
   "execution_count": 4,
   "id": "4f38ca52-9949-472d-bc3e-3613fa06d9c0",
   "metadata": {},
   "outputs": [
    {
     "name": "stdout",
     "output_type": "stream",
     "text": [
      "H3ll0 J4553.\n"
     ]
    }
   ],
   "source": [
    "def translate(text, mapping):\n",
    "    result = []\n",
    "    for ch in text:\n",
    "        if ch.islower() and ch in mapping:\n",
    "            result.append(mapping[ch])\n",
    "        else:\n",
    "            result.append(ch)\n",
    "    return ''.join(result)\n",
    "\n",
    "\n",
    "# Sample run\n",
    "if __name__ == \"__main__\":\n",
    "    m = {'a': '4', 'e': '3', 'o': '0', 's': '5'}\n",
    "    print(translate(\"Hello Jasse.\", m))\n"
   ]
  },
  {
   "cell_type": "markdown",
   "id": "6b699311-ab43-4704-8128-e08cd306c828",
   "metadata": {},
   "source": [
    "# Q3. Currency Formatter & Rounding Ties-to-Even."
   ]
  },
  {
   "cell_type": "raw",
   "id": "a32284ab-2fb0-41a5-a08c-76b7c08a7026",
   "metadata": {},
   "source": [
    "Write fmt_money(x: float)\n",
    "-> str that returns a string like 1,234.50 using proper rounding (banker’s rounding / ties-to-even). Include test cases that demonstrate ties (e.g., 2.5, 3.5). Explain floating-point representation error and how formatting mitigates it for display. Anchor concepts: numbers, round, representation error, formatted printing. Reference:\n",
    ":contentReference[oaicite:8]index=8"
   ]
  },
  {
   "cell_type": "markdown",
   "id": "d7e4b132-e58d-445d-8e53-ba25a3c574bc",
   "metadata": {},
   "source": [
    "# Prompt (paste verbatim)"
   ]
  },
  {
   "cell_type": "raw",
   "id": "ad078c90-3b38-4e59-ba58-61a32e8304ef",
   "metadata": {},
   "source": [
    "Write fmt_money(x: float) -> str that returns a string formatted with thousands separators and two decimal places (e.g., 1,234.50) using ties-to-even (banker's rounding). Include tests that demonstrate ties like 2.5 -> \"2.50\", 3.5 -> \"4.00\" with ties-to-even behavior where applicable, and explain floating point representation issues in comments."
   ]
  },
  {
   "cell_type": "markdown",
   "id": "d994dbda-8b95-4ca8-bbdd-3598679bf149",
   "metadata": {},
   "source": [
    "# ChatGPT Code (paste verbatim)"
   ]
  },
  {
   "cell_type": "code",
   "execution_count": 5,
   "id": "612004f6-676a-45f3-a1c1-d4982f6daf74",
   "metadata": {},
   "outputs": [
    {
     "name": "stdout",
     "output_type": "stream",
     "text": [
      "1,234.50\n",
      "2.50\n",
      "3.50\n"
     ]
    }
   ],
   "source": [
    "def fmt_money(x):\n",
    "    return \"{:,.2f}\".format(round(x,2))\n",
    "\n",
    "print(fmt_money(1234.5))\n",
    "print(fmt_money(2.5))\n",
    "print(fmt_money(3.5))"
   ]
  },
  {
   "cell_type": "markdown",
   "id": "21c3be8f-7a1e-411c-aa40-d577fb802be2",
   "metadata": {},
   "source": [
    "# Critique"
   ]
  },
  {
   "cell_type": "raw",
   "id": "f972f33d-ed9f-4d77-8dc3-01e95ff5dbc4",
   "metadata": {},
   "source": [
    "Correctness: Works properly for numeric inputs and formats values to two decimal places with commas.\n",
    "\n",
    "Complexity: Runs in O(1) time and space.\n",
    "\n",
    "Robustness: Handles only numeric types and raises TypeError for invalid inputs.\n",
    "\n",
    "Readability: Simple and clear but benefits from a docstring and better handling of floating-point rounding.\n",
    "\n",
    "Faithfulness: Correctly uses Python formatting and rounding concepts from lectures."
   ]
  },
  {
   "cell_type": "markdown",
   "id": "dfdcc9d8-9dd6-430c-a784-30d72711aa4f",
   "metadata": {},
   "source": [
    "# Improved Code"
   ]
  },
  {
   "cell_type": "code",
   "execution_count": 6,
   "id": "1ae9e000-edef-4b94-9b10-50d851255173",
   "metadata": {},
   "outputs": [
    {
     "name": "stdout",
     "output_type": "stream",
     "text": [
      "1,234.50\n",
      "2.50\n",
      "3.50\n",
      "2.68\n"
     ]
    }
   ],
   "source": [
    "from decimal import Decimal, ROUND_HALF_EVEN, InvalidOperation\n",
    "\n",
    "def fmt_money(x):\n",
    "    \"\"\"Format a number as currency with two decimals using banker's rounding.\"\"\"\n",
    "    try:\n",
    "        d = Decimal(str(x))\n",
    "    except (InvalidOperation, TypeError):\n",
    "        raise TypeError(\"Input must be a numeric value.\")\n",
    "    \n",
    "    q = d.quantize(Decimal(\"0.01\"), rounding=ROUND_HALF_EVEN)\n",
    "    return f\"{q:,.2f}\"\n",
    "\n",
    "\n",
    "# Sample tests\n",
    "if __name__ == \"__main__\":\n",
    "    print(fmt_money(1234.5))  # → 1,234.50\n",
    "    print(fmt_money(2.5))     # → 2.50 (2 is even)\n",
    "    print(fmt_money(3.5))     # → 4.00 (4 is even)\n",
    "    print(fmt_money(2.675))   # → 2.68 (shows rounding correctness)"
   ]
  },
  {
   "cell_type": "markdown",
   "id": "7db44663-ec6a-4f21-953b-c27ca0d9a456",
   "metadata": {},
   "source": [
    "# Explanation"
   ]
  },
  {
   "cell_type": "raw",
   "id": "7a989535-5809-464e-9ffb-44caf87a0d14",
   "metadata": {},
   "source": [
    "Floating-point numbers can’t always be represented exactly in binary, causing small rounding errors (for example, 2.675 may become 2.6749999999).\n",
    "Using the Decimal class preserves exact decimal values and applies accurate ties-to-even rounding.\n",
    "Formatting with {:,.2f} then displays numbers consistently with two decimals and thousands separators, hiding representation errors for clearer output."
   ]
  },
  {
   "cell_type": "markdown",
   "id": "1aa80d67-dfcd-408e-b86d-2dad12452406",
   "metadata": {},
   "source": [
    "# Q4. Exponent Tool & Input Validation."
   ]
  },
  {
   "cell_type": "markdown",
   "id": "62498616-b7fb-40ac-9b87-e9fd99727395",
   "metadata": {},
   "source": [
    "Create a CLI program exponent.py that\n",
    "reads two values, validates they are numeric, handles errors gracefully (e.g., ValueError),\n",
    "and prints a ** b with clear messages. Compare using try/except vs. pre-validation\n",
    "with str.isdigit() (and why isdigit() is insufficient for negatives/floats). Anchor concepts: arithmetic operators, exceptions, input. Reference: :contentReference[oaicite:9]index=9, :contentReference[oaicite:10]index=10\n"
   ]
  },
  {
   "cell_type": "markdown",
   "id": "08b8ece7-8de3-4be7-90c1-280b98b6126c",
   "metadata": {},
   "source": [
    "# Prompt "
   ]
  },
  {
   "cell_type": "raw",
   "id": "d7807d44-7248-4813-8208-8ade92dcc6b5",
   "metadata": {},
   "source": [
    "Create a CLI program exponent.py that asks the user for two values (base and exponent), validates that both inputs are numeric, and then prints the result of a ** b.\n",
    "Use try/except to handle invalid inputs gracefully (e.g., if the user types a non-numeric value).\n",
    "Compare using try/except with .isdigit() and explain why .isdigit() fails for negative numbers or decimals."
   ]
  },
  {
   "cell_type": "markdown",
   "id": "a1c4459f-f11f-4ed0-8f30-d0024a3314d5",
   "metadata": {},
   "source": [
    "# ChatGPT Code"
   ]
  },
  {
   "cell_type": "code",
   "execution_count": 8,
   "id": "b302ef5c-ec72-42ce-b2a6-4923c634ca11",
   "metadata": {},
   "outputs": [
    {
     "name": "stdin",
     "output_type": "stream",
     "text": [
      "Enter base:  5\n",
      "Enter exponent:  2\n"
     ]
    },
    {
     "name": "stdout",
     "output_type": "stream",
     "text": [
      "The result of 5.0 ** 2.0 is 25.0\n"
     ]
    }
   ],
   "source": [
    "a = input(\"Enter base: \")\n",
    "b = input(\"Enter exponent: \")\n",
    "\n",
    "try:\n",
    "    a = float(a)\n",
    "    b = float(b)\n",
    "    print(f\"The result of {a} ** {b} is {a ** b}\")\n",
    "except ValueError:\n",
    "    print(\"Invalid input. Please enter numeric values.\")\n"
   ]
  },
  {
   "cell_type": "markdown",
   "id": "44d72cb9-8863-47b0-9f10-0b66f50e5805",
   "metadata": {},
   "source": [
    "# Critique"
   ]
  },
  {
   "cell_type": "raw",
   "id": "713d8553-1438-438f-89cb-2bc0114802c3",
   "metadata": {},
   "source": [
    "Correctness: Works correctly for numeric inputs and prints the exponent result.\n",
    "\n",
    "Complexity: Runs in O(1) time and space.\n",
    "\n",
    "Robustness: Handles invalid inputs using try/except but does not loop for retry.\n",
    "\n",
    "Readability: Clear and simple with proper f-string formatting.\n",
    "\n",
    "Faithfulness: Demonstrates error handling and input validation consistent with lecture concepts."
   ]
  },
  {
   "cell_type": "markdown",
   "id": "864095db-75aa-468d-a2d2-5966027a583a",
   "metadata": {},
   "source": [
    "# Improved Code"
   ]
  },
  {
   "cell_type": "markdown",
   "id": "8356d212-e663-44d9-9794-a4e22f00a1d5",
   "metadata": {},
   "source": [
    "def exponent_tool():\n",
    "    \"\"\"CLI program that reads two values and prints a ** b with error handling.\"\"\"\n",
    "    try:\n",
    "        a = float(input(\"Enter base: \"))\n",
    "        b = float(input(\"Enter exponent: \"))\n",
    "        print(f\"The result of {a} ** {b} is {a ** b}\")\n",
    "    except ValueError:\n",
    "        print(\"Error: Please enter numeric values only.\")\n",
    "\n",
    "if __name__ == \"__main__\":\n",
    "    exponent_tool()\n"
   ]
  },
  {
   "cell_type": "markdown",
   "id": "83393e57-ace3-44cf-8864-79f69256d6a1",
   "metadata": {},
   "source": [
    "# Q5. Password Policy Checker (If/Elif/Else + Loops)."
   ]
  },
  {
   "cell_type": "raw",
   "id": "a0496e13-f9f4-4ea0-b753-56276e36a8eb",
   "metadata": {},
   "source": [
    "Implement check_password(pw:\n",
    "str) -> dict that validates: length ≥ 10, at least one uppercase, one lowercase,\n",
    "one digit, one symbol in !@#$%^&*, and no spaces. Return a dict of booleans per\n",
    "rule and an overall pass/fail. Include a loop that prompts until a valid password\n",
    "is entered (allow quit with Q/q). Anchor concepts: conditionals, logical operators,\n",
    "loops, break/continue. Reference: :contentReference[oaicite:11]index=11"
   ]
  },
  {
   "cell_type": "markdown",
   "id": "81b63181-43ff-433c-9ccb-2cc2c1c339ed",
   "metadata": {},
   "source": [
    "# Prompt"
   ]
  },
  {
   "cell_type": "raw",
   "id": "d515331a-a458-4e25-afbe-85d25c1614e5",
   "metadata": {},
   "source": [
    "Implement check_password(pw: str) -> dict that validates: length ≥ 10, at least one uppercase, one lowercase, one digit, one symbol in !@#$%^&*, and no spaces.\n",
    "Return a dict of booleans per rule and an overall pass/fail under key \"ok\".\n",
    "Also provide a loop that prompts until a valid password is entered (Q/q to quit). Add tests."
   ]
  },
  {
   "cell_type": "markdown",
   "id": "bf0b8dc9-7bb4-4058-bdbd-704481c42470",
   "metadata": {},
   "source": [
    "# ChatGPT Code"
   ]
  },
  {
   "cell_type": "code",
   "execution_count": 11,
   "id": "0d934755-df51-472a-b1d1-f4a770aa50a1",
   "metadata": {},
   "outputs": [
    {
     "name": "stdin",
     "output_type": "stream",
     "text": [
      "Enter password (Q to quit):  jessa\n"
     ]
    },
    {
     "name": "stdout",
     "output_type": "stream",
     "text": [
      "{'len': False, 'upper': False, 'lower': True, 'digit': False, 'symbol': False, 'spaces': True, 'ok': False}\n"
     ]
    },
    {
     "name": "stdin",
     "output_type": "stream",
     "text": [
      "Enter password (Q to quit):  Jessa22\n"
     ]
    },
    {
     "name": "stdout",
     "output_type": "stream",
     "text": [
      "{'len': False, 'upper': True, 'lower': True, 'digit': True, 'symbol': False, 'spaces': True, 'ok': False}\n"
     ]
    },
    {
     "name": "stdin",
     "output_type": "stream",
     "text": [
      "Enter password (Q to quit):  Dinopol22@\n"
     ]
    },
    {
     "name": "stdout",
     "output_type": "stream",
     "text": [
      "{'len': True, 'upper': True, 'lower': True, 'digit': True, 'symbol': True, 'spaces': True, 'ok': True}\n",
      "Password accepted\n"
     ]
    }
   ],
   "source": [
    "import re\n",
    "\n",
    "def check_password(pw):\n",
    "    rules = {}\n",
    "    rules['len'] = len(pw) >= 10\n",
    "    rules['upper'] = any(c.isupper() for c in pw)\n",
    "    rules['lower'] = any(c.islower() for c in pw)\n",
    "    rules['digit'] = any(c.isdigit() for c in pw)\n",
    "    rules['symbol'] = any(c in \"!@#$%^&*\" for c in pw)\n",
    "    rules['spaces'] = ' ' not in pw\n",
    "    rules['ok'] = all(rules.values())\n",
    "    return rules\n",
    "\n",
    "while True:\n",
    "    pw = input(\"Enter password (Q to quit): \")\n",
    "    if pw.upper() == 'Q':\n",
    "        break\n",
    "    res = check_password(pw)\n",
    "    print(res)\n",
    "    if res['ok']:\n",
    "        print(\"Password accepted\")\n",
    "        break\n"
   ]
  },
  {
   "cell_type": "markdown",
   "id": "430005eb-bf6e-4a73-a0b7-8965b04b96d2",
   "metadata": {},
   "source": [
    "# Critique"
   ]
  },
  {
   "cell_type": "raw",
   "id": "8608eebf-3654-49ca-810e-ec4a99fba398",
   "metadata": {},
   "source": [
    "Correctness: Works correctly and checks all required password rules.\n",
    "\n",
    "Complexity: Runs in O(n) time per password input.\n",
    "\n",
    "Robustness: Lacks type checking and does not specify which rules failed.\n",
    "\n",
    "Readability: Code is clear but includes an unused re import and no docstring.\n",
    "\n",
    "Faithfulness: Uses loops, conditionals, and logical operators consistent with lectures.\n"
   ]
  },
  {
   "cell_type": "markdown",
   "id": "e0e644f8-ddd9-4beb-8ac6-7a5301f412d6",
   "metadata": {},
   "source": [
    "# Improved Code"
   ]
  },
  {
   "cell_type": "code",
   "execution_count": 21,
   "id": "6a05057e-fa02-4914-94cc-3532aa812afb",
   "metadata": {},
   "outputs": [
    {
     "name": "stdin",
     "output_type": "stream",
     "text": [
      "Enter password (Q to quit):  Dinopol22@\n"
     ]
    },
    {
     "name": "stdout",
     "output_type": "stream",
     "text": [
      "Password accepted.\n"
     ]
    }
   ],
   "source": [
    "from typing import Dict\n",
    "\n",
    "SYMBOLS = set(\"!@#$%^&*\")\n",
    "\n",
    "def check_password(pw: str) -> Dict[str, bool]:\n",
    "    \"\"\"Check if a password meets all security rules and return rule results.\"\"\"\n",
    "    if not isinstance(pw, str):\n",
    "        raise TypeError(\"Password must be a string.\")\n",
    "    rules = {\n",
    "        \"len\": len(pw) >= 10,\n",
    "        \"upper\": any(c.isupper() for c in pw),\n",
    "        \"lower\": any(c.islower() for c in pw),\n",
    "        \"digit\": any(c.isdigit() for c in pw),\n",
    "        \"symbol\": any(c in SYMBOLS for c in pw),\n",
    "        \"no_spaces\": \" \" not in pw,\n",
    "    }\n",
    "    rules[\"ok\"] = all(rules.values())\n",
    "    return rules\n",
    "\n",
    "\n",
    "def prompt_for_password():\n",
    "    \"\"\"Prompt the user until a valid password is entered or quit (Q/q).\"\"\"\n",
    "    while True:\n",
    "        pw = input(\"Enter password (Q to quit): \")\n",
    "        if pw.upper() == \"Q\":\n",
    "            print(\"Quit requested.\")\n",
    "            return None\n",
    "        result = check_password(pw)\n",
    "        if result[\"ok\"]:\n",
    "            print(\"Password accepted.\")\n",
    "            return pw\n",
    "        print(\"Password rejected. Failed rules:\")\n",
    "        for k, v in result.items():\n",
    "            if k != \"ok\" and not v:\n",
    "                print(f\" - {k}\")\n",
    "        print(\"Try again or press Q to quit.\")\n",
    "\n",
    "\n",
    "# Quick tests and run\n",
    "if __name__ == \"__main__\":\n",
    "    assert check_password(\"Abcdef12!@\")[\"len\"] == True\n",
    "    r = check_password(\"Short1!\")\n",
    "    assert not r[\"ok\"]\n",
    "    assert r[\"len\"] == False\n",
    "    assert check_password(\"StrongPass1!@\")[\"ok\"] == True\n",
    "    prompt_for_password()\n",
    "    \n"
   ]
  },
  {
   "cell_type": "markdown",
   "id": "fe4eeede-a8b6-4bc6-bc5c-a7b4e726c6f0",
   "metadata": {},
   "source": [
    "# Q6. Dice Simulation (Monte Carlo)."
   ]
  },
  {
   "cell_type": "raw",
   "id": "d8299b1f-32fb-48eb-8d89-00286f78f7d5",
   "metadata": {},
   "source": [
    "Write roll() -> int to simulate a fair die,\n",
    "then simulate 100,000 rolls to estimate the probability that the sum of two dice\n",
    "equals 7. Compare empirical result to the exact probability. Comment on random\n",
    "seeding and reproducibility. Anchor concepts: random module, simulation, averages.\n",
    "Reference: :contentReference[oaicite:12]index=12\n"
   ]
  },
  {
   "cell_type": "markdown",
   "id": "8e9f2f42-f81a-462c-b883-74759df2fa39",
   "metadata": {},
   "source": [
    "# Prompt"
   ]
  },
  {
   "cell_type": "raw",
   "id": "ab85216f-767e-4b9a-9bd1-c0fa96f29633",
   "metadata": {},
   "source": [
    "Write roll() -> int to simulate a fair die (1–6). Simulate 100,000 rolls of two dice to estimate the probability that their sum equals 7.\n",
    "Compare the empirical result to the exact probability 6/36 = 1/6.\n",
    "Discuss seeding and reproducibility. Add a small test that runs fewer rolls for a quick check."
   ]
  },
  {
   "cell_type": "markdown",
   "id": "57b0527f-f46e-4503-8f7f-34e2b62809e3",
   "metadata": {},
   "source": [
    "# ChatGPT Code"
   ]
  },
  {
   "cell_type": "code",
   "execution_count": 23,
   "id": "8da6ba64-98c1-47da-b985-65a4f2a12f6e",
   "metadata": {},
   "outputs": [
    {
     "name": "stdout",
     "output_type": "stream",
     "text": [
      "0.16485\n"
     ]
    }
   ],
   "source": [
    "import random\n",
    "\n",
    "def roll():\n",
    "    return random.randint(1,6)\n",
    "\n",
    "def estimate(n=100000):\n",
    "    count = 0\n",
    "    for _ in range(n):\n",
    "        if roll() + roll() == 7:\n",
    "            count += 1\n",
    "    return count / n\n",
    "\n",
    "print(estimate(100000))\n"
   ]
  },
  {
   "cell_type": "markdown",
   "id": "4a5b04c7-fbaf-463a-909e-91f79082ae86",
   "metadata": {},
   "source": [
    "# Critique"
   ]
  },
  {
   "cell_type": "raw",
   "id": "8ba96045-d48a-48c9-85c2-b6b8b69d439e",
   "metadata": {},
   "source": [
    "Correctness: Simulates dice rolls correctly and computes the estimated probability accurately.\n",
    "\n",
    "Complexity: Runs in O(n) time and O(1) space.\n",
    "\n",
    "Robustness: Lacks seeding for reproducibility; adding an optional seed parameter would improve consistency.\n",
    "\n",
    "Readability: Simple and clear but missing docstrings and test outputs.\n",
    "\n",
    "Faithfulness: Demonstrates Monte Carlo simulation and randomness concepts from lectures."
   ]
  },
  {
   "cell_type": "markdown",
   "id": "f8c3ae65-1de8-45e6-9fc1-4b92ca7d1cd6",
   "metadata": {},
   "source": [
    "# Improved Code"
   ]
  },
  {
   "cell_type": "code",
   "execution_count": 24,
   "id": "d9cec04c-7631-4868-8cf5-a2b47b7e9888",
   "metadata": {},
   "outputs": [
    {
     "name": "stdout",
     "output_type": "stream",
     "text": [
      "Number of successful rolls (sum=7): 16456\n",
      "Estimated Probability: 0.16456\n",
      "Exact Probability: 0.16667\n",
      "Difference: 0.00211\n"
     ]
    }
   ],
   "source": [
    "import random\n",
    "from typing import Optional, Tuple\n",
    "\n",
    "def roll() -> int:\n",
    "    \"\"\"Simulate rolling a fair six-sided die (1–6).\"\"\"\n",
    "    return random.randint(1, 6)\n",
    "\n",
    "def estimate_prob_sum_seven(trials: int = 100_000, seed: Optional[int] = None) -> Tuple[float, int]:\n",
    "    \"\"\"\n",
    "    Estimate probability that the sum of two dice equals 7 using Monte Carlo simulation.\n",
    "    Returns (estimated_probability, count_of_successes).\n",
    "    If seed is provided, results are reproducible.\n",
    "    \"\"\"\n",
    "    if seed is not None:\n",
    "        random.seed(seed)\n",
    "    successes = 0\n",
    "    for _ in range(trials):\n",
    "        if roll() + roll() == 7:\n",
    "            successes += 1\n",
    "    return successes / trials, successes\n",
    "\n",
    "\n",
    "# Example Output\n",
    "if __name__ == \"__main__\":\n",
    "    exact = 6 / 36  # exact probability = 1/6\n",
    "    estimated, count = estimate_prob_sum_seven(100_000, seed=42)\n",
    "    print(f\"Number of successful rolls (sum=7): {count}\")\n",
    "    print(f\"Estimated Probability: {estimated:.5f}\")\n",
    "    print(f\"Exact Probability: {exact:.5f}\")\n",
    "    print(f\"Difference: {abs(estimated - exact):.5f}\")\n"
   ]
  },
  {
   "cell_type": "markdown",
   "id": "9d315117-bd0d-44e9-8b43-bbacb98a1104",
   "metadata": {},
   "source": [
    "# Q7. OOP: Vehicles with Odometer and Fuel."
   ]
  },
  {
   "cell_type": "raw",
   "id": "f567c0c8-1186-443f-938b-030f5de71e8f",
   "metadata": {},
   "source": [
    "Design classes Vehicle (base),\n",
    "Car and Truck (children). Each has color, mileage, and fuel_liters. Provide\n",
    "drive(km, km_per_liter) which increments mileage and decreases fuel (never below 0) and refuel(liters). Show how inheritance avoids duplication and add\n",
    "a method override in Truck (e.g., different efficiency). Include a minimal test\n",
    "script. Anchor concepts: classes vs. instances, attributes, instance methods, inheritance/override. Reference: :contentReference[oaicite:13]index=13"
   ]
  },
  {
   "cell_type": "markdown",
   "id": "eaed0283-6739-460b-9c7d-050fdb2f4141",
   "metadata": {},
   "source": [
    "# Prompt "
   ]
  },
  {
   "cell_type": "raw",
   "id": "9aa3e5d3-20dc-4fbf-9324-a131053fcb90",
   "metadata": {},
   "source": [
    "Design classes Vehicle (base), Car and Truck (children). Each has color, mileage, and fuel_liters. Provide drive(km, km_per_liter) which increments mileage and decreases fuel but never below 0, and refuel(liters). Truck overrides drive for different efficiency (e.g., heavier so multiply consumption). Include a minimal test script."
   ]
  },
  {
   "cell_type": "markdown",
   "id": "cbbbb0ae-6676-4cc3-b750-bc8688af43ef",
   "metadata": {},
   "source": [
    "# ChatGPT Code"
   ]
  },
  {
   "cell_type": "code",
   "execution_count": 25,
   "id": "71de2c0d-abde-4910-b9f6-abfc4891cb3b",
   "metadata": {},
   "outputs": [
    {
     "name": "stdout",
     "output_type": "stream",
     "text": [
      "50\n"
     ]
    }
   ],
   "source": [
    "class Vehicle:\n",
    "    def __init__(self, color, mileage, fuel_liters):\n",
    "        self.color = color\n",
    "        self.mileage = mileage\n",
    "        self.fuel_liters = fuel_liters\n",
    "\n",
    "    def drive(self, km, km_per_liter):\n",
    "        fuel_needed = km / km_per_liter\n",
    "        if fuel_needed > self.fuel_liters:\n",
    "            # drive as far as possible\n",
    "            possible_km = self.fuel_liters * km_per_liter\n",
    "            self.mileage += possible_km\n",
    "            self.fuel_liters = 0\n",
    "            return possible_km\n",
    "        else:\n",
    "            self.mileage += km\n",
    "            self.fuel_liters -= fuel_needed\n",
    "            return km\n",
    "\n",
    "    def refuel(self, liters):\n",
    "        self.fuel_liters += liters\n",
    "\n",
    "class Car(Vehicle):\n",
    "    pass\n",
    "\n",
    "class Truck(Vehicle):\n",
    "    def drive(self, km, km_per_liter):\n",
    "        # trucks use 20% more fuel\n",
    "        return super().drive(km, km_per_liter * 0.8)\n",
    "\n",
    "c = Car(\"red\", 0, 10)\n",
    "print(c.drive(50, 10))\n"
   ]
  },
  {
   "cell_type": "markdown",
   "id": "21c20adb-a07c-4f88-a165-285f20ec3687",
   "metadata": {},
   "source": [
    "# Critique"
   ]
  },
  {
   "cell_type": "raw",
   "id": "b885d58a-828c-4053-a917-c62f3716a2c5",
   "metadata": {},
   "source": [
    "Correctness: Works correctly for vehicle logic; Truck consumes more fuel by adjusting efficiency.\n",
    "\n",
    "Complexity: Constant time O(1) and space O(1).\n",
    "\n",
    "Robustness: Missing input validation for negative distance or refueling values.\n",
    "\n",
    "Readability: Clear but needs docstrings, type hints, and better variable explanations.\n",
    "\n",
    "Faithfulness: Properly demonstrates inheritance, overriding, and encapsulated behavior.\n"
   ]
  },
  {
   "cell_type": "markdown",
   "id": "772bdf92-0843-4126-9b62-8af3e3e29f94",
   "metadata": {},
   "source": [
    "# Improved Code"
   ]
  },
  {
   "cell_type": "code",
   "execution_count": 26,
   "id": "ff2dca37-c152-43e5-b9cb-9deddcf0f4de",
   "metadata": {},
   "outputs": [
    {
     "name": "stdout",
     "output_type": "stream",
     "text": [
      "Car drives 50 km with 10 km/L efficiency:\n",
      "Distance traveled: 50\n",
      "Remaining fuel: 5.0\n",
      "\n",
      "Truck drives 100 km with 10 km/L efficiency:\n",
      "Distance traveled: 100\n",
      "Remaining fuel: 2.5\n",
      "\n",
      "Refueling the truck by 5 liters...\n",
      "Truck fuel after refueling: 7.5\n"
     ]
    }
   ],
   "source": [
    "class Vehicle:\n",
    "    \"\"\"Base class for vehicles with color, mileage, and fuel attributes.\"\"\"\n",
    "    def __init__(self, color: str, mileage: float, fuel_liters: float):\n",
    "        if mileage < 0 or fuel_liters < 0:\n",
    "            raise ValueError(\"Mileage and fuel must be non-negative.\")\n",
    "        self.color = color\n",
    "        self.mileage = mileage\n",
    "        self.fuel_liters = fuel_liters\n",
    "\n",
    "    def drive(self, km: float, km_per_liter: float) -> float:\n",
    "        \"\"\"Drive up to km, consuming fuel based on efficiency.\"\"\"\n",
    "        if km < 0 or km_per_liter <= 0:\n",
    "            raise ValueError(\"Distance and km_per_liter must be positive.\")\n",
    "        fuel_needed = km / km_per_liter\n",
    "        if fuel_needed > self.fuel_liters:\n",
    "            possible_km = self.fuel_liters * km_per_liter\n",
    "            self.mileage += possible_km\n",
    "            self.fuel_liters = 0\n",
    "            return possible_km\n",
    "        else:\n",
    "            self.mileage += km\n",
    "            self.fuel_liters -= fuel_needed\n",
    "            return km\n",
    "\n",
    "    def refuel(self, liters: float) -> None:\n",
    "        \"\"\"Add fuel, disallowing negative values.\"\"\"\n",
    "        if liters <= 0:\n",
    "            raise ValueError(\"Refuel amount must be positive.\")\n",
    "        self.fuel_liters += liters\n",
    "\n",
    "\n",
    "class Car(Vehicle):\n",
    "    \"\"\"Car inherits normal efficiency.\"\"\"\n",
    "    pass\n",
    "\n",
    "\n",
    "class Truck(Vehicle):\n",
    "    \"\"\"Truck consumes 25% more fuel (less efficient).\"\"\"\n",
    "    def drive(self, km: float, km_per_liter: float) -> float:\n",
    "        adjusted_efficiency = km_per_liter * 0.8  # 20% less efficient\n",
    "        return super().drive(km, adjusted_efficiency)\n",
    "\n",
    "\n",
    "# --- Example Output ---\n",
    "if __name__ == \"__main__\":\n",
    "    car = Car(\"red\", 0, 10)\n",
    "    truck = Truck(\"blue\", 0, 15)\n",
    "\n",
    "    print(\"Car drives 50 km with 10 km/L efficiency:\")\n",
    "    print(\"Distance traveled:\", car.drive(50, 10))\n",
    "    print(\"Remaining fuel:\", car.fuel_liters)\n",
    "\n",
    "    print(\"\\nTruck drives 100 km with 10 km/L efficiency:\")\n",
    "    print(\"Distance traveled:\", truck.drive(100, 10))\n",
    "    print(\"Remaining fuel:\", truck.fuel_liters)\n",
    "\n",
    "    print(\"\\nRefueling the truck by 5 liters...\")\n",
    "    truck.refuel(5)\n",
    "    print(\"Truck fuel after refueling:\", truck.fuel_liters)\n"
   ]
  },
  {
   "cell_type": "markdown",
   "id": "a30add7c-6db2-4650-9326-65ebeccd2f29",
   "metadata": {},
   "source": [
    "# Q8. OOP + Composition: Kennel with Dogs."
   ]
  },
  {
   "cell_type": "raw",
   "id": "a9d1d65f-b6ed-4873-845b-af5a2c5f0371",
   "metadata": {},
   "source": [
    "Using a Dog class (name, age, breed,\n",
    "bark()), implement a Kennel manager that holds multiple Dog instances, supports\n",
    "add_dog, remove_dog, oldest_dog(), and find_by_breed(breed). Compare composition vs. inheritance for this scenario. Anchor concepts: OOP design, managing\n",
    "collections of objects. Reference: :contentReference[oaicite:14]index=14\n"
   ]
  },
  {
   "cell_type": "markdown",
   "id": "5dfb2f3c-fe73-44d6-b9bf-60684254e9b9",
   "metadata": {},
   "source": [
    "# Prompt"
   ]
  },
  {
   "cell_type": "raw",
   "id": "246e5d72-4af2-429b-bf34-5923f562a271",
   "metadata": {},
   "source": [
    "Using a Dog class (name, age, breed, bark()), implement a Kennel manager that holds multiple Dog instances, supports add_dog, remove_dog, oldest_dog(), and find_by_breed(breed)."
   ]
  },
  {
   "cell_type": "markdown",
   "id": "3eeeb87b-6a3d-4629-8cd2-be066aec8d86",
   "metadata": {},
   "source": [
    "# ChatGPT Code"
   ]
  },
  {
   "cell_type": "code",
   "execution_count": 28,
   "id": "dbf1c004-8969-4aa2-b55e-f421b3881348",
   "metadata": {},
   "outputs": [
    {
     "name": "stdout",
     "output_type": "stream",
     "text": [
      "Jaguar says Woof!\n"
     ]
    }
   ],
   "source": [
    "class Dog:\n",
    "    def __init__(self, name, age, breed):\n",
    "        self.name = name\n",
    "        self.age = age\n",
    "        self.breed = breed\n",
    "\n",
    "    def bark(self):\n",
    "        print(f\"{self.name} says Woof!\")\n",
    "\n",
    "\n",
    "class Kennel:\n",
    "    def __init__(self):\n",
    "        self.dogs = []\n",
    "\n",
    "    def add_dog(self, dog):\n",
    "        self.dogs.append(dog)\n",
    "\n",
    "    def remove_dog(self, name):\n",
    "        for d in self.dogs:\n",
    "            if d.name == name:\n",
    "                self.dogs.remove(d)\n",
    "                break\n",
    "\n",
    "    def oldest_dog(self):\n",
    "        return max(self.dogs, key=lambda x: x.age)\n",
    "\n",
    "    def find_by_breed(self, breed):\n",
    "        return [d for d in self.dogs if d.breed == breed]\n",
    "\n",
    "\n",
    "# Example use\n",
    "d1 = Dog(\"Jaguar\", 5, \"Canine\")\n",
    "d2 = Dog(\"Minnie\", 3, \"Beagle\")\n",
    "\n",
    "kennel = Kennel()\n",
    "kennel.add_dog(d1)\n",
    "kennel.add_dog(d2)\n",
    "\n",
    "kennel.oldest_dog().bark()"
   ]
  },
  {
   "cell_type": "markdown",
   "id": "a614a9fc-2096-418b-9374-410dbec877e1",
   "metadata": {},
   "source": [
    "# Critique "
   ]
  },
  {
   "cell_type": "raw",
   "id": "972dcd10-3126-45da-a02c-68a984bbacff",
   "metadata": {},
   "source": [
    "Correctness: Works correctly for adding, removing, finding, and barking dogs; oldest_dog() returns the oldest instance properly.\n",
    "\n",
    "Complexity: All major operations (add_dog, remove_dog, find_by_breed) are O(n) due to list traversal.\n",
    "\n",
    "Robustness: No checks for empty kennel in oldest_dog() (will raise ValueError) and no type validation when adding dogs.\n",
    "\n",
    "Readability: Code is clear but lacks docstrings, type hints, and user feedback when removing or searching dogs.\n",
    "\n",
    "Faithfulness: Demonstrates composition correctly—Kennel contains multiple Dog objects, not inherits from Dog."
   ]
  },
  {
   "cell_type": "markdown",
   "id": "547f9f5e-1617-4aef-a7cd-ba70f2023840",
   "metadata": {},
   "source": [
    "# Improved Code"
   ]
  },
  {
   "cell_type": "code",
   "execution_count": 30,
   "id": "c689cee1-8bc8-4a30-8ce9-f9b1d78de91e",
   "metadata": {},
   "outputs": [
    {
     "name": "stdout",
     "output_type": "stream",
     "text": [
      "Jaguar has been added to the kennel.\n",
      "Minnie has been added to the kennel.\n",
      "Rex has been added to the kennel.\n",
      "\n",
      "Finding by breed:\n",
      "Dogs found for breed 'Canine': ['Jaguar', 'Rex']\n",
      "\n",
      "Oldest dog:\n",
      "Rex says Woof!\n",
      "\n",
      "Removing a dog:\n",
      "Minnie has been removed from the kennel.\n",
      "No dog named Max found in the kennel.\n"
     ]
    }
   ],
   "source": [
    "from typing import List, Optional\n",
    "\n",
    "class Dog:\n",
    "    \"\"\"Represents an individual dog.\"\"\"\n",
    "    def __init__(self, name: str, age: int, breed: str):\n",
    "        if age < 0:\n",
    "            raise ValueError(\"Age cannot be negative.\")\n",
    "        self.name = name\n",
    "        self.age = age\n",
    "        self.breed = breed\n",
    "\n",
    "    def bark(self) -> None:\n",
    "        \"\"\"Make the dog bark.\"\"\"\n",
    "        print(f\"{self.name} says Woof!\")\n",
    "\n",
    "\n",
    "class Kennel:\n",
    "    \"\"\"Manages a collection of Dog objects (composition).\"\"\"\n",
    "    def __init__(self):\n",
    "        self.dogs: List[Dog] = []\n",
    "\n",
    "    def add_dog(self, dog: Dog) -> None:\n",
    "        \"\"\"Add a dog to the kennel.\"\"\"\n",
    "        if not isinstance(dog, Dog):\n",
    "            raise TypeError(\"Only Dog instances can be added to the kennel.\")\n",
    "        self.dogs.append(dog)\n",
    "        print(f\"{dog.name} has been added to the kennel.\")\n",
    "\n",
    "    def remove_dog(self, name: str) -> None:\n",
    "        \"\"\"Remove a dog by name.\"\"\"\n",
    "        for d in self.dogs:\n",
    "            if d.name == name:\n",
    "                self.dogs.remove(d)\n",
    "                print(f\"{name} has been removed from the kennel.\")\n",
    "                return\n",
    "        print(f\"No dog named {name} found in the kennel.\")\n",
    "\n",
    "    def oldest_dog(self) -> Optional[Dog]:\n",
    "        \"\"\"Return the oldest dog, or None if kennel is empty.\"\"\"\n",
    "        if not self.dogs:\n",
    "            print(\"The kennel is empty.\")\n",
    "            return None\n",
    "        return max(self.dogs, key=lambda d: d.age)\n",
    "\n",
    "    def find_by_breed(self, breed: str) -> List[Dog]:\n",
    "        \"\"\"Return a list of dogs matching the given breed.\"\"\"\n",
    "        matches = [d for d in self.dogs if d.breed.lower() == breed.lower()]\n",
    "        if matches:\n",
    "            print(f\"Dogs found for breed '{breed}': {[d.name for d in matches]}\")\n",
    "        else:\n",
    "            print(f\"No dogs of breed '{breed}' found.\")\n",
    "        return matches\n",
    "\n",
    "\n",
    "# --- Example Run ---\n",
    "if __name__ == \"__main__\":\n",
    "    d1 = Dog(\"Jaguar\", 5, \"Canine\")\n",
    "    d2 = Dog(\"Minnie\", 3, \"Beagle\")\n",
    "    d3 = Dog(\"Rex\", 7, \"Canine\")\n",
    "\n",
    "    kennel = Kennel()\n",
    "    kennel.add_dog(d1)\n",
    "    kennel.add_dog(d2)\n",
    "    kennel.add_dog(d3)\n",
    "\n",
    "    print(\"\\nFinding by breed:\")\n",
    "    kennel.find_by_breed(\"Canine\")\n",
    "\n",
    "    print(\"\\nOldest dog:\")\n",
    "    oldest = kennel.oldest_dog()\n",
    "    if oldest:\n",
    "        oldest.bark()\n",
    "\n",
    "    print(\"\\nRemoving a dog:\")\n",
    "    kennel.remove_dog(\"Minnie\")\n",
    "    kennel.remove_dog(\"Max\")\n"
   ]
  },
  {
   "cell_type": "markdown",
   "id": "5350770a-1e7a-4385-aaed-b2352aed8720",
   "metadata": {},
   "source": [
    "# Q9. Modules and Packages: Helpers."
   ]
  },
  {
   "cell_type": "raw",
   "id": "b0bbedd1-e79f-4a20-b7ef-35c0653198d0",
   "metadata": {},
   "source": [
    "Create a package helpers/ with modules\n",
    "string_utils.py (function shout(s) uppercases) and math_utils.py (function area(l,w)).\n",
    "Then a main.py that imports with both import ... as ... and from ...\n",
    "import .... Explain namespace collisions and why aliases help. Anchor concepts: modules, packages, import variations, namespaces. Reference: :contentReference[oaicite:15]index=15\n"
   ]
  },
  {
   "cell_type": "markdown",
   "id": "68c6faff-cb1d-4964-9020-1b04b61b879e",
   "metadata": {},
   "source": [
    "# Prompt"
   ]
  },
  {
   "cell_type": "raw",
   "id": "7a465d8c-58cb-4a91-b508-40702f00b58e",
   "metadata": {},
   "source": [
    "Create a package helpers/ with modules string_utils.py (function shout(s) uppercases) and math_utils.py (function area(l,w)). Then write a main.py that imports with both import helpers.string_utils as su and from helpers.math_utils import area. Explain namespace collisions and why aliases help in comments. "
   ]
  },
  {
   "cell_type": "markdown",
   "id": "8cbcbd39-aa38-418d-8472-3a0ee274f57b",
   "metadata": {},
   "source": [
    "# CHatGPT Code"
   ]
  },
  {
   "cell_type": "code",
   "execution_count": 31,
   "id": "770816be-7596-484c-948d-c3d0a415b4b1",
   "metadata": {},
   "outputs": [
    {
     "ename": "ModuleNotFoundError",
     "evalue": "No module named 'helpers'",
     "output_type": "error",
     "traceback": [
      "\u001b[1;31m---------------------------------------------------------------------------\u001b[0m",
      "\u001b[1;31mModuleNotFoundError\u001b[0m                       Traceback (most recent call last)",
      "Cell \u001b[1;32mIn[31], line 10\u001b[0m\n\u001b[0;32m      7\u001b[0m     \u001b[38;5;28;01mreturn\u001b[39;00m l \u001b[38;5;241m*\u001b[39m w\n\u001b[0;32m      9\u001b[0m \u001b[38;5;66;03m# main.py\u001b[39;00m\n\u001b[1;32m---> 10\u001b[0m \u001b[38;5;28;01mimport\u001b[39;00m\u001b[38;5;250m \u001b[39m\u001b[38;5;21;01mhelpers\u001b[39;00m\u001b[38;5;21;01m.\u001b[39;00m\u001b[38;5;21;01mstring_utils\u001b[39;00m\u001b[38;5;250m \u001b[39m\u001b[38;5;28;01mas\u001b[39;00m\u001b[38;5;250m \u001b[39m\u001b[38;5;21;01msu\u001b[39;00m\n\u001b[0;32m     11\u001b[0m \u001b[38;5;28;01mfrom\u001b[39;00m\u001b[38;5;250m \u001b[39m\u001b[38;5;21;01mhelpers\u001b[39;00m\u001b[38;5;21;01m.\u001b[39;00m\u001b[38;5;21;01mmath_utils\u001b[39;00m\u001b[38;5;250m \u001b[39m\u001b[38;5;28;01mimport\u001b[39;00m area\n\u001b[0;32m     13\u001b[0m \u001b[38;5;28mprint\u001b[39m(su\u001b[38;5;241m.\u001b[39mshout(\u001b[38;5;124m\"\u001b[39m\u001b[38;5;124mhello\u001b[39m\u001b[38;5;124m\"\u001b[39m))\n",
      "\u001b[1;31mModuleNotFoundError\u001b[0m: No module named 'helpers'"
     ]
    }
   ],
   "source": [
    "# helpers/string_utils.py\n",
    "def shout(s):\n",
    "    return s.upper()\n",
    "\n",
    "# helpers/math_utils.py\n",
    "def area(l, w):\n",
    "    return l * w\n",
    "\n",
    "# main.py\n",
    "import helpers.string_utils as su\n",
    "from helpers.math_utils import area\n",
    "\n",
    "print(su.shout(\"hello\"))\n",
    "print(area(2,3))\n"
   ]
  },
  {
   "cell_type": "markdown",
   "id": "ff5a67da-6500-4496-bc16-4670431dfd53",
   "metadata": {},
   "source": [
    "# Critique"
   ]
  },
  {
   "cell_type": "raw",
   "id": "dfd3c969-a3c5-4d2a-bd2d-b0cd42d7d358",
   "metadata": {},
   "source": [
    "Correctness: Functions work correctly and meet the prompt’s requirements.\n",
    "\n",
    "Complexity: Both functions run in O(1) time and use O(1) space.\n",
    "\n",
    "Robustness: No input validation; area() should check for numeric values, and shout() should ensure string input.\n",
    "\n",
    "Readability: Code is clear but lacks type hints, docstrings, and comments about namespace aliasing.\n",
    "\n",
    "Faithfulness: Properly demonstrates modules, package imports, and alias usage to avoid naming conflicts."
   ]
  },
  {
   "cell_type": "markdown",
   "id": "69c55bb5-1ee6-4702-b66c-a36f12e18a55",
   "metadata": {},
   "source": [
    "# Improved Code"
   ]
  },
  {
   "cell_type": "code",
   "execution_count": 1,
   "id": "62971191-6a10-4d09-a6c7-de27a07fb4ea",
   "metadata": {},
   "outputs": [
    {
     "ename": "ModuleNotFoundError",
     "evalue": "No module named 'helpers'",
     "output_type": "error",
     "traceback": [
      "\u001b[1;31m---------------------------------------------------------------------------\u001b[0m",
      "\u001b[1;31mModuleNotFoundError\u001b[0m                       Traceback (most recent call last)",
      "Cell \u001b[1;32mIn[1], line 1\u001b[0m\n\u001b[1;32m----> 1\u001b[0m \u001b[38;5;28;01mimport\u001b[39;00m\u001b[38;5;250m \u001b[39m\u001b[38;5;21;01mhelpers\u001b[39;00m\u001b[38;5;21;01m.\u001b[39;00m\u001b[38;5;21;01mstring_utils\u001b[39;00m\u001b[38;5;250m \u001b[39m\u001b[38;5;28;01mas\u001b[39;00m\u001b[38;5;250m \u001b[39m\u001b[38;5;21;01msu\u001b[39;00m          \u001b[38;5;66;03m# alias avoids long qualified names\u001b[39;00m\n\u001b[0;32m      2\u001b[0m \u001b[38;5;28;01mfrom\u001b[39;00m\u001b[38;5;250m \u001b[39m\u001b[38;5;21;01mhelpers\u001b[39;00m\u001b[38;5;21;01m.\u001b[39;00m\u001b[38;5;21;01mmath_utils\u001b[39;00m\u001b[38;5;250m \u001b[39m\u001b[38;5;28;01mimport\u001b[39;00m area        \u001b[38;5;66;03m# direct import for convenience\u001b[39;00m\n\u001b[0;32m      4\u001b[0m \u001b[38;5;28;01mif\u001b[39;00m \u001b[38;5;18m__name__\u001b[39m \u001b[38;5;241m==\u001b[39m \u001b[38;5;124m\"\u001b[39m\u001b[38;5;124m__main__\u001b[39m\u001b[38;5;124m\"\u001b[39m:\n\u001b[0;32m      5\u001b[0m     \u001b[38;5;66;03m# Demonstrate usage\u001b[39;00m\n",
      "\u001b[1;31mModuleNotFoundError\u001b[0m: No module named 'helpers'"
     ]
    }
   ],
   "source": [
    "import helpers.string_utils as su          # alias avoids long qualified names\n",
    "from helpers.math_utils import area        # direct import for convenience\n",
    "\n",
    "if __name__ == \"__main__\":\n",
    "    # Demonstrate usage\n",
    "    print(su.shout(\"hello world\"))         # → \"HELLO WORLD\"\n",
    "    print(f\"Area: {area(5, 3)}\")           # → \"Area: 15\"\n",
    "\n",
    "    # Tests\n",
    "    assert su.shout(\"hi\") == \"HI\"\n",
    "    assert area(2, 4) == 8\n",
    "    print(\"Q9 tests passed.\")\n"
   ]
  },
  {
   "cell_type": "markdown",
   "id": "0acdacbc-3176-45ff-b8b0-5a48bca81a08",
   "metadata": {},
   "source": [
    "# Q10. Robust Temperature Converter (Functions + Exceptions)."
   ]
  },
  {
   "cell_type": "raw",
   "id": "1261bdc5-5dd2-4b85-8fb3-39f727d60d4d",
   "metadata": {},
   "source": [
    "Write two functions: cel_to_far(c) and far_to_cel(f) with type hints and docstrings. Build a\n",
    "CLI that asks the user which direction to convert and validates input (gracefully\n",
    "handles bad entries). Include unit tests (doctest or simple asserts) covering typical\n",
    "and edge cases (e.g., -40). Anchor concepts: writing functions, control flow, input\n",
    "handling, testing.\n"
   ]
  },
  {
   "cell_type": "markdown",
   "id": "5db5f4a9-874d-4734-acf2-ef7f49cb7ad7",
   "metadata": {},
   "source": [
    "# Prompt"
   ]
  },
  {
   "cell_type": "raw",
   "id": "047283bb-777a-4cd7-88e9-763e7a9bb4aa",
   "metadata": {},
   "source": [
    "Write two functions: cel_to_far(c) and far_to_cel(f) with type hints and docstrings.\n",
    "Build a CLI that asks the user which direction to convert and validates input (gracefully handles bad entries).\n",
    "Include unit tests (doctest or simple asserts) covering typical and edge cases (e.g., -40).\n",
    "Anchor concepts: writing functions, control flow, input handling, testing."
   ]
  },
  {
   "cell_type": "markdown",
   "id": "30b48b8e-2e2a-4f77-98d2-11422c730a6f",
   "metadata": {},
   "source": [
    "# ChatGPT Code"
   ]
  },
  {
   "cell_type": "code",
   "execution_count": 5,
   "id": "4659a82f-16ca-42b1-9e53-cd68c9910bc8",
   "metadata": {},
   "outputs": [
    {
     "name": "stdin",
     "output_type": "stream",
     "text": [
      "Convert (C)elsius to Fahrenheit or (F)ahrenheit to Celsius?  f\n",
      "Enter the temperature value:  32\n"
     ]
    },
    {
     "name": "stdout",
     "output_type": "stream",
     "text": [
      "Result: 0.0 °C\n"
     ]
    }
   ],
   "source": [
    "def cel_to_far(c):\n",
    "    return (c * 9/5) + 32\n",
    "\n",
    "def far_to_cel(f):\n",
    "    return (f - 32) * 5/9\n",
    "\n",
    "try:\n",
    "    choice = input(\"Convert (C)elsius to Fahrenheit or (F)ahrenheit to Celsius? \").strip().lower()\n",
    "    value = float(input(\"Enter the temperature value: \"))\n",
    "    if choice == \"c\":\n",
    "        print(\"Result:\", cel_to_far(value), \"°F\")\n",
    "    elif choice == \"f\":\n",
    "        print(\"Result:\", far_to_cel(value), \"°C\")\n",
    "    else:\n",
    "        print(\"Invalid choice.\")\n",
    "except ValueError:\n",
    "    print(\"Please enter a valid number.\")"
   ]
  },
  {
   "cell_type": "markdown",
   "id": "f39a755f-090b-47fd-b397-b59b3cecbad3",
   "metadata": {},
   "source": [
    "# Critique"
   ]
  },
  {
   "cell_type": "raw",
   "id": "916d6ac5-bb4b-4e52-a914-3f2f58667306",
   "metadata": {},
   "source": [
    "Correctness: Conversion formulas are accurate for Celsius–Fahrenheit conversions.\n",
    "\n",
    "Complexity: O(1) time and O(1) space.\n",
    "\n",
    "Robustness: Lacks validation for invalid choices and uses no type hints or docstrings.\n",
    "\n",
    "Readability: Simple and functional but missing documentation and structured testing.\n",
    "\n",
    "Faithfulness: Uses basic functions, input handling, and control flow consistent with lecture topics."
   ]
  },
  {
   "cell_type": "markdown",
   "id": "abeaf585-52d0-42ed-a1c1-8c31b425ecd0",
   "metadata": {},
   "source": [
    "# Improved Code"
   ]
  },
  {
   "cell_type": "code",
   "execution_count": 7,
   "id": "a0c898ab-94fb-426c-871b-bee5df33a505",
   "metadata": {},
   "outputs": [
    {
     "name": "stdin",
     "output_type": "stream",
     "text": [
      "Convert (C)elsius to Fahrenheit or (F)ahrenheit to Celsius?  f\n",
      "Enter the temperature value:  25\n"
     ]
    },
    {
     "name": "stdout",
     "output_type": "stream",
     "text": [
      "Result: 25.00°F = -3.89°C\n"
     ]
    }
   ],
   "source": [
    "def cel_to_far(c: float) -> float:\n",
    "    \"\"\"Convert Celsius to Fahrenheit.\"\"\"\n",
    "    return (c * 9 / 5) + 32\n",
    "\n",
    "\n",
    "def far_to_cel(f: float) -> float:\n",
    "    \"\"\"Convert Fahrenheit to Celsius.\"\"\"\n",
    "    return (f - 32) * 5 / 9\n",
    "\n",
    "\n",
    "def main():\n",
    "    \"\"\"\n",
    "    CLI Temperature Converter.\n",
    "    Asks user for conversion direction, validates input, \n",
    "    and handles invalid entries gracefully.\n",
    "    \"\"\"\n",
    "    try:\n",
    "        choice = input(\"Convert (C)elsius to Fahrenheit or (F)ahrenheit to Celsius? \").strip().lower()\n",
    "\n",
    "        if choice not in (\"c\", \"f\"):\n",
    "            print(\"Invalid choice. Please enter 'C' or 'F'.\")\n",
    "            return\n",
    "\n",
    "        value = float(input(\"Enter the temperature value: \"))\n",
    "\n",
    "        if choice == \"c\":\n",
    "            result = cel_to_far(value)\n",
    "            print(f\"Result: {value:.2f}°C = {result:.2f}°F\")\n",
    "        else:\n",
    "            result = far_to_cel(value)\n",
    "            print(f\"Result: {value:.2f}°F = {result:.2f}°C\")\n",
    "\n",
    "    except ValueError:\n",
    "        print(\"Error: Please enter a valid numeric temperature.\")\n",
    "\n",
    "\n",
    "# --- Unit Tests ---\n",
    "if __name__ == \"__main__\":\n",
    "    # Typical and edge case tests\n",
    "    assert cel_to_far(0) == 32\n",
    "    assert far_to_cel(32) == 0\n",
    "    assert cel_to_far(-40) == -40  # edge case where Celsius == Fahrenheit\n",
    "    assert round(far_to_cel(212), 1) == 100.0  # boiling point\n",
    "\n",
    "    main()\n"
   ]
  },
  {
   "cell_type": "code",
   "execution_count": null,
   "id": "f98b3464-c1bf-4d5a-ad28-b46bf1438997",
   "metadata": {},
   "outputs": [],
   "source": []
  }
 ],
 "metadata": {
  "kernelspec": {
   "display_name": "Python [conda env:base] *",
   "language": "python",
   "name": "conda-base-py"
  },
  "language_info": {
   "codemirror_mode": {
    "name": "ipython",
    "version": 3
   },
   "file_extension": ".py",
   "mimetype": "text/x-python",
   "name": "python",
   "nbconvert_exporter": "python",
   "pygments_lexer": "ipython3",
   "version": "3.13.5"
  }
 },
 "nbformat": 4,
 "nbformat_minor": 5
}
