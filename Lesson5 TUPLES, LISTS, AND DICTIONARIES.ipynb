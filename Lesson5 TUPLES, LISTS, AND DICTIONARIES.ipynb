{
 "cells": [
  {
   "cell_type": "markdown",
   "id": "f087e6cb-2671-4a0a-aaaa-7c8ffbbab170",
   "metadata": {},
   "source": [
    "# Lesson 5"
   ]
  },
  {
   "cell_type": "markdown",
   "id": "646fe7af-f575-4db4-be87-441a706a9834",
   "metadata": {},
   "source": [
    "# Review Question 1"
   ]
  },
  {
   "cell_type": "code",
   "execution_count": 1,
   "id": "8288c8a9-e1bd-44fb-b4fd-8f496805c89e",
   "metadata": {},
   "outputs": [
    {
     "name": "stdout",
     "output_type": "stream",
     "text": [
      "('FIRST', 'SECOND', 'THIRD')\n"
     ]
    }
   ],
   "source": [
    "#1. Create a tuple literal namedcardinal_numbers that holds the strings \"FIRST\", \"SECOND\" and \"THIRD\", in that order.\n",
    "\n",
    "cardinal_numbers = (\"FIRST\", \"SECOND\", \"THIRD\")\n",
    "print(cardinal_numbers)"
   ]
  },
  {
   "cell_type": "code",
   "execution_count": 2,
   "id": "af301e53-29d1-492d-9825-eee94d72f173",
   "metadata": {},
   "outputs": [
    {
     "name": "stdout",
     "output_type": "stream",
     "text": [
      "SECOND\n"
     ]
    }
   ],
   "source": [
    "#2. Using index notation and print(), Display the string at index 1 in cardinal_numbers.\n",
    "\n",
    "cardinal_numbers = (\"FIRST\", \"SECOND\", \"THIRD\")\n",
    "print(cardinal_numbers[1])"
   ]
  },
  {
   "cell_type": "code",
   "execution_count": 3,
   "id": "7ac5ee2e-04be-491c-8948-65abf894a979",
   "metadata": {},
   "outputs": [
    {
     "name": "stdout",
     "output_type": "stream",
     "text": [
      "FIRST\n",
      "SECOND\n",
      "THIRD\n"
     ]
    }
   ],
   "source": [
    "#3. Unpack the values in cardinal_number into three new strings named POSITION 1,POSITION 2 and POSITION 3 in a single line of code, then print each  value on a separate line.\n",
    "\n",
    "cardinal_numbers = (\"FIRST\", \"SECOND\", \"THIRD\")\n",
    "POSITION1, POSITION2, POSITION3 = cardinal_numbers\n",
    "print(POSITION1)\n",
    "print(POSITION2)\n",
    "print(POSITION3)"
   ]
  },
  {
   "cell_type": "code",
   "execution_count": 4,
   "id": "f0cd3a0e-220a-4605-9aec-1e5bc2e23501",
   "metadata": {},
   "outputs": [
    {
     "name": "stdout",
     "output_type": "stream",
     "text": [
      "('J', 'E', 'S', 'S', 'A')\n"
     ]
    }
   ],
   "source": [
    "#4. Create a tuple called my_name that contains the letters of your name by using tuple() and a string literal.\n",
    "\n",
    "my_name = tuple(\"JESSA\")\n",
    "print(my_name)"
   ]
  },
  {
   "cell_type": "code",
   "execution_count": 5,
   "id": "c94710b4-7af0-4e4a-a2b4-f0d58cc5ef6f",
   "metadata": {},
   "outputs": [
    {
     "name": "stdout",
     "output_type": "stream",
     "text": [
      "False\n"
     ]
    }
   ],
   "source": [
    "#5. Check whether or not the character \"X\" is in my_name using the in keyword.\n",
    "\n",
    "my_name = tuple(\"JESSA\")  \n",
    "print(\"X\" in my_name)"
   ]
  },
  {
   "cell_type": "code",
   "execution_count": 6,
   "id": "22f3cfe6-98b3-4e1b-86c6-f0bd44895150",
   "metadata": {},
   "outputs": [
    {
     "name": "stdout",
     "output_type": "stream",
     "text": [
      "('E', 'S', 'S', 'A')\n"
     ]
    }
   ],
   "source": [
    "#6. Create a new tuple containing all but the first letter in my_name using slicing notation.\n",
    "\n",
    "my_name = tuple(\"JESSA\")          \n",
    "all_but_first = my_name[1:]      \n",
    "print(all_but_first)"
   ]
  },
  {
   "cell_type": "markdown",
   "id": "19cc03c5-10dd-4157-94b1-f6f57e520737",
   "metadata": {},
   "source": [
    "# REVIEW QUESTION 2"
   ]
  },
  {
   "cell_type": "code",
   "execution_count": 7,
   "id": "dd8f85b1-0568-4c0d-bd61-2cb093afa4df",
   "metadata": {},
   "outputs": [
    {
     "name": "stdout",
     "output_type": "stream",
     "text": [
      "['Rice', 'Beans']\n"
     ]
    }
   ],
   "source": [
    "#1. Create a list named food with two elements \"Rice\" and \"Beans\".\n",
    "\n",
    "food = [\"Rice\", \"Beans\"]\n",
    "print(food)"
   ]
  },
  {
   "cell_type": "code",
   "execution_count": 8,
   "id": "a0263727-2b27-4cc1-ab4b-17ac488a9c5c",
   "metadata": {},
   "outputs": [
    {
     "name": "stdout",
     "output_type": "stream",
     "text": [
      "['Rice', 'Beans', 'Broccoli']\n"
     ]
    }
   ],
   "source": [
    "#2. Append the string \"Broccoli\" to food using append().\n",
    "\n",
    "food = [\"Rice\", \"Beans\"]\n",
    "food.append(\"Broccoli\")\n",
    "print(food)\n"
   ]
  },
  {
   "cell_type": "code",
   "execution_count": 9,
   "id": "7232ae1f-38b2-4e06-bfbc-6ef68e8f1dad",
   "metadata": {},
   "outputs": [
    {
     "name": "stdout",
     "output_type": "stream",
     "text": [
      "['Rice', 'Beans', 'Broccoli', 'Bread', 'Pizza']\n"
     ]
    }
   ],
   "source": [
    "#3. add the string \"Bread\" and \"Pizza\" to \"Food\" using .extend().\n",
    "\n",
    "food = [\"Rice\", \"Beans\"]\n",
    "food.extend([\"Broccoli\", \"Bread\", \"Pizza\"])\n",
    "print(food)"
   ]
  },
  {
   "cell_type": "code",
   "execution_count": 10,
   "id": "4df85023-5700-42a8-90d8-518fb58a29e0",
   "metadata": {},
   "outputs": [
    {
     "name": "stdout",
     "output_type": "stream",
     "text": [
      "['Rice', 'Beans']\n"
     ]
    }
   ],
   "source": [
    "#4. Print the first two items in the food list using print() and slicing notation.\n",
    "\n",
    "food = [\"Rice\", \"Beans\", \"Broccoli\", \"Bread\", \"Pizza\"]\n",
    "print(food[:2])\n"
   ]
  },
  {
   "cell_type": "code",
   "execution_count": 11,
   "id": "9278ca78-84f5-4a75-a0f9-e446d6798e68",
   "metadata": {},
   "outputs": [
    {
     "name": "stdout",
     "output_type": "stream",
     "text": [
      "Pizza\n"
     ]
    }
   ],
   "source": [
    "#5. Print the last item in food using print() and index notation.\n",
    "\n",
    "food = [\"Rice\", \"Beans\", \"Broccoli\", \"Bread\", \"Pizza\"]\n",
    "print(food[-1])\n"
   ]
  },
  {
   "cell_type": "code",
   "execution_count": 12,
   "id": "d908bdec-fca2-4bcd-97b7-dd53390894f5",
   "metadata": {},
   "outputs": [
    {
     "name": "stdout",
     "output_type": "stream",
     "text": [
      "['Eggs', 'Fruit', 'Orange Juice']\n"
     ]
    }
   ],
   "source": [
    "#6. Create a list called breakfast from the string \"Eggs, Fruit, Orange Juice\" using the string .split() method.\n",
    "\n",
    "breakfast = \"Eggs, Fruit, Orange Juice\".split(\", \")\n",
    "print(breakfast)"
   ]
  },
  {
   "cell_type": "code",
   "execution_count": 13,
   "id": "aed7ce7f-54fd-41c4-bba6-6f050849b7bb",
   "metadata": {},
   "outputs": [
    {
     "name": "stdout",
     "output_type": "stream",
     "text": [
      "3\n"
     ]
    }
   ],
   "source": [
    "#7. Verify that breakfast has three items using len().\n",
    "\n",
    "breakfast = \"Eggs, Fruit, Orange Juice\".split(\", \")\n",
    "print(len(breakfast))\n"
   ]
  },
  {
   "cell_type": "code",
   "execution_count": 14,
   "id": "73ab1cfa-55d8-4a71-98bb-2bba529cf8bd",
   "metadata": {},
   "outputs": [
    {
     "name": "stdout",
     "output_type": "stream",
     "text": [
      "[4, 5, 12]\n"
     ]
    }
   ],
   "source": [
    "#8. Create a new list called lengths using a list comprehension that contains the lengths of each string in the breakfast list.\n",
    "\n",
    "breakfast = \"Eggs, Fruit, Orange Juice\".split(\", \")\n",
    "lengths = [ len(item) for item in breakfast ]\n",
    "print(lengths)"
   ]
  },
  {
   "cell_type": "markdown",
   "id": "c974f5c1-1653-491a-a944-ca04e26bbe23",
   "metadata": {},
   "source": [
    "# Review Question 3"
   ]
  },
  {
   "cell_type": "code",
   "execution_count": 15,
   "id": "562a1d6e-a49c-43a1-98eb-123224a1be49",
   "metadata": {},
   "outputs": [
    {
     "name": "stdout",
     "output_type": "stream",
     "text": [
      "((1, 2), (3, 4))\n"
     ]
    }
   ],
   "source": [
    "#1. Create a tuple data with two values. the first value should be the tuple(1,2) and the second value should be the tuple(3,4).\n",
    "\n",
    "data = ((1, 2), (3, 4))\n",
    "print(data)\n"
   ]
  },
  {
   "cell_type": "code",
   "execution_count": 16,
   "id": "41bf30cd-c192-497e-9c33-b057ef351568",
   "metadata": {},
   "outputs": [
    {
     "name": "stdout",
     "output_type": "stream",
     "text": [
      "Row 1 sum: 3\n",
      "Row 2 sum: 7\n"
     ]
    }
   ],
   "source": [
    "#2. Write a for loop that loops over data and prints the sum of each nested tuple. the uotput should look like this:\n",
    "# Row 1 sum: 3\n",
    "# Row 2 sum:7\n",
    "\n",
    "data = ((1, 2), (3, 4))\n",
    "\n",
    "row = 1\n",
    "for tup in data:\n",
    "    s = sum(tup)\n",
    "    print(f\"Row {row} sum: {s}\")\n",
    "    row += 1"
   ]
  },
  {
   "cell_type": "code",
   "execution_count": 19,
   "id": "107e64a1-ff57-4b61-8619-4f0576239a1b",
   "metadata": {},
   "outputs": [
    {
     "name": "stdout",
     "output_type": "stream",
     "text": [
      "Original list: [1, 4, 2, 3, 5]\n",
      "Copied list: [1, 4, 2, 3, 5]\n"
     ]
    }
   ],
   "source": [
    "#4. Create a copy of the number list using the (:) slicing notation.\n",
    "# Example number list\n",
    "numbers = [1, 4, 2, 3, 5]\n",
    "\n",
    "# Copy using slicing\n",
    "numbers_copy = numbers[:]\n",
    "\n",
    "print(\"Original list:\", numbers)\n",
    "print(\"Copied list:\", numbers_copy)"
   ]
  },
  {
   "cell_type": "code",
   "execution_count": 20,
   "id": "0cb6f658-7cfd-423b-b99e-ce2c0ea39c18",
   "metadata": {},
   "outputs": [
    {
     "name": "stdout",
     "output_type": "stream",
     "text": [
      "[1, 2, 3, 4, 5]\n"
     ]
    }
   ],
   "source": [
    "#5. Sort the numbers list in numerical order using the .sort() method\n",
    "\n",
    "numbers.sort()\n",
    "print(numbers)"
   ]
  },
  {
   "cell_type": "markdown",
   "id": "8ceee9ba-2a95-485a-b500-b43c47648aae",
   "metadata": {},
   "source": [
    "# CHALLENGE: LIST OF LISTS"
   ]
  },
  {
   "cell_type": "code",
   "execution_count": 1,
   "id": "1c2850b3-1986-4b27-97af-11240e038148",
   "metadata": {},
   "outputs": [
    {
     "name": "stdout",
     "output_type": "stream",
     "text": [
      "[['California Institute of Technology', 2175, 37704], ['Harvard', 19627, 39849], ['Massachusetts Institute of Technology', 10566, 40732], ['Princeton', 7802, 37000], ['Rice', 5879, 35551], ['Stanford', 19535, 40569], ['Yale', 11701, 40500]]\n"
     ]
    }
   ],
   "source": [
    "# Write a program that contains the following lists of lists:\n",
    " \n",
    "universities = [\n",
    "                ['California Institute of Technology', 2175, 37704],\n",
    "                ['Harvard', 19627, 39849],\n",
    "                ['Massachusetts Institute of Technology', 10566, 40732],\n",
    "                ['Princeton', 7802, 37000],\n",
    "                ['Rice', 5879, 35551],\n",
    "                ['Stanford', 19535, 40569],\n",
    "                ['Yale', 11701, 40500]\n",
    "]\n",
    "\n",
    "print(universities)"
   ]
  },
  {
   "cell_type": "markdown",
   "id": "5b769cb8-138c-4595-a924-b7f0ba8b7a14",
   "metadata": {},
   "source": [
    "# CHALLENGE: WAX POETIC"
   ]
  },
  {
   "cell_type": "code",
   "execution_count": 3,
   "id": "1535edb1-76e0-4922-a862-90b896cebf74",
   "metadata": {},
   "outputs": [
    {
     "name": "stdout",
     "output_type": "stream",
     "text": [
      "['FOSSIL', 'HORSE', 'AARDVARK', 'JUDGE', 'CHEF', 'MANGO', 'EXTROVERT', 'GORILLA']\n",
      "['KICKS', 'JINGLES', 'BOUNCES', 'SLURPS', 'MEOWS', 'EXPLODES', 'CURDLES']\n",
      "['FURRY', 'BALDING', 'INCREDULOUS', 'FRAGRANT', 'EXUBERANT', 'GLISTENING']\n",
      "['AGAINST', 'AFTER', 'INTO', 'BENEATH', 'UPON', 'FOR', 'IN', 'LIKE', 'OVER', 'WITHIN']\n",
      "['CURIOUSLY', 'FURIOUSLY', 'SENSUOUSLYEXTRAVAGANTLY', 'TANTALIZINLY']\n"
     ]
    }
   ],
   "source": [
    "# Create five lists for different word types:\n",
    "# nouns:[\"FOSSIL\", \"HORSE\", \"AARDVARK\", \"JUDGE\", \"CHEF\", \"MANGO\", \"EXTROVERT\", \"GORILLA\"]\n",
    "\n",
    "NOUNS = [\"FOSSIL\", \"HORSE\", \"AARDVARK\", \"JUDGE\", \"CHEF\", \"MANGO\",\"EXTROVERT\", \"GORILLA\"]\n",
    "VERBS = [\"KICKS\", \"JINGLES\", \"BOUNCES\", \"SLURPS\", \"MEOWS\", \"EXPLODES\", \"CURDLES\"]\n",
    "ADJECTIVES = [\"FURRY\", \"BALDING\", \"INCREDULOUS\", \"FRAGRANT\", \"EXUBERANT\", \"GLISTENING\"]\n",
    "PREPOSITIONS = [\"AGAINST\", \"AFTER\", \"INTO\", \"BENEATH\", \"UPON\", \"FOR\", \"IN\", \"LIKE\", \"OVER\", \"WITHIN\"]\n",
    "ADVERBS = [\"CURIOUSLY\", \"FURIOUSLY\", \"SENSUOUSLY\" \"EXTRAVAGANTLY\", \"TANTALIZINLY\"]\n",
    "\n",
    "print(NOUNS)\n",
    "print(VERBS)\n",
    "print(ADJECTIVES)\n",
    "print(PREPOSITIONS)\n",
    "print(ADVERBS)\n"
   ]
  },
  {
   "cell_type": "markdown",
   "id": "faf39785-070a-421d-913e-8bcbff8b2d99",
   "metadata": {},
   "source": [
    "# REVIEW EXERCISES"
   ]
  },
  {
   "cell_type": "code",
   "execution_count": 5,
   "id": "f0a21c08-e2a3-4252-9b47-8566f0050027",
   "metadata": {},
   "outputs": [],
   "source": [
    "#1. Create an empty dictionary named captains.\n",
    "captains = {}"
   ]
  },
  {
   "cell_type": "code",
   "execution_count": 6,
   "id": "4d75b264-31f3-4a17-a484-ac82a8fd8ff7",
   "metadata": {},
   "outputs": [
    {
     "name": "stdout",
     "output_type": "stream",
     "text": [
      "'Enterprise' : 'Picard'\n",
      "'Voyager' : 'Janeway'\n",
      "'Defiant' : 'Sisko'\n"
     ]
    }
   ],
   "source": [
    "#2. Using the square bracket notation, enter the following data into the dictionary, one item at a time:\n",
    "# 'Enterprise': 'Picard'\n",
    "# 'Voyager': 'Janeway'\n",
    "# 'Defiant': 'Sisko'\n",
    "\n",
    "captains = {}\n",
    "captains[\"Enterprise\"] = \"Picard\"\n",
    "captains[\"Voyager\"] = \"Janeway\"\n",
    "captains[\"Defiant\"] = \"Sisko\"\n",
    "\n",
    "for n in captains:\n",
    "        print(f\"'{n}' : '{captains[n]}'\")"
   ]
  },
  {
   "cell_type": "code",
   "execution_count": 12,
   "id": "4a833142-7b6f-40de-b3f1-293fc8beda15",
   "metadata": {},
   "outputs": [
    {
     "name": "stdout",
     "output_type": "stream",
     "text": [
      "'Enterprise' : 'Picard'\n",
      "'Voyager' : 'Janeway'\n",
      "'Defiant' : 'Sisko'\n",
      "'Discovery' : 'Unknwon'\n"
     ]
    }
   ],
   "source": [
    "#3. Write two if statements that check if \"Enterprise\" and \"Discovery\" exist as keys in the dictionary. Set their values to \"Unknown\" if the key does not exist.\n",
    "\n",
    "if not (\"Enterprise\" in captains): captains[\"Enterprise\"] = \"Unknown\"\n",
    "if not (\"Discovery\" in captains): captains[\"Discovery\"] = \"Unknown\"\n",
    "\n",
    "for n in captains:\n",
    "        print(f\"'{n}' : '{captains[n]}'\")\n",
    "    "
   ]
  },
  {
   "cell_type": "code",
   "execution_count": 14,
   "id": "f3d274d9-eb97-4269-894c-95a02ba55259",
   "metadata": {},
   "outputs": [
    {
     "name": "stdout",
     "output_type": "stream",
     "text": [
      "The Enterprise is captained by Picard.\n",
      "The Voyager is captained by Janeway.\n",
      "The Defiant is captained by Sisko.\n",
      "The Discovery is captained by Unknown.\n"
     ]
    }
   ],
   "source": [
    "#4. Write a for loop to display the ship and captain names contained in the dictionary. For example, the output should look something like this:\n",
    "# The Enterprise is captained by Picard.\n",
    "\n",
    "captains = {\n",
    "    \"Enterprise\": \"Picard\",\n",
    "    \"Voyager\": \"Janeway\",\n",
    "    \"Defiant\": \"Sisko\",\n",
    "    \"Discovery\": \"Unknown\"\n",
    "}\n",
    "\n",
    "for ship, captain in captains.items():\n",
    "    print(f\"The {ship} is captained by {captain}.\")\n"
   ]
  },
  {
   "cell_type": "markdown",
   "id": "57232a2b-7b38-4b4d-a0e5-af1a2a1a2daa",
   "metadata": {},
   "source": [
    "# REVIEW EXERCISES"
   ]
  },
  {
   "cell_type": "code",
   "execution_count": 21,
   "id": "fd232bcd-3ac6-449e-8ae1-33e5fb7610ab",
   "metadata": {},
   "outputs": [
    {
     "name": "stdout",
     "output_type": "stream",
     "text": [
      "'Enterprise' : 'Picard'\n",
      "'Voyager' : 'Janeway'\n",
      "'Defiant' : 'Sisko'\n"
     ]
    }
   ],
   "source": [
    "#5. Delete \"Discovery\" from the dictionary.\n",
    "\n",
    "captains = {\n",
    "    \"Enterprise\": \"Picard\",\n",
    "    \"Discovery\": \"Unknown\",\n",
    "    \"Voyager\": \"Janeway\",\n",
    "    \"Defiant\": \"Sisko\"\n",
    "}\n",
    "\n",
    "del captains[\"Discovery\"]\n",
    "for n in captains: print(f\"'{n}' : '{captains[n]}'\")"
   ]
  },
  {
   "cell_type": "code",
   "execution_count": 22,
   "id": "522ea3b9-0dcf-4a1e-bb52-5986752f9312",
   "metadata": {},
   "outputs": [
    {
     "name": "stdout",
     "output_type": "stream",
     "text": [
      "'Enterprise' : 'Picard'\n",
      "'Discovery' : 'Unknown'\n",
      "'Voyager' : 'Janeway'\n",
      "'Defiant' : 'Sisko'\n"
     ]
    }
   ],
   "source": [
    "#6. BONUS: Make the same dictionary by using dict[] and passing in the initial values when you first create the dictionary.\n",
    "\n",
    "captains = dict(\n",
    "    Enterprise=\"Picard\",\n",
    "    Discovery=\"Unknown\",\n",
    "    Voyager=\"Janeway\",\n",
    "    Defiant=\"Sisko\"\n",
    ")\n",
    "\n",
    "for n in captains:\n",
    "    print(f\"'{n}' : '{captains[n]}'\")\n"
   ]
  },
  {
   "cell_type": "code",
   "execution_count": null,
   "id": "a34f6d76-20a3-4533-8b9c-fe2b291c38af",
   "metadata": {},
   "outputs": [],
   "source": []
  }
 ],
 "metadata": {
  "kernelspec": {
   "display_name": "Python [conda env:base] *",
   "language": "python",
   "name": "conda-base-py"
  },
  "language_info": {
   "codemirror_mode": {
    "name": "ipython",
    "version": 3
   },
   "file_extension": ".py",
   "mimetype": "text/x-python",
   "name": "python",
   "nbconvert_exporter": "python",
   "pygments_lexer": "ipython3",
   "version": "3.13.5"
  }
 },
 "nbformat": 4,
 "nbformat_minor": 5
}
