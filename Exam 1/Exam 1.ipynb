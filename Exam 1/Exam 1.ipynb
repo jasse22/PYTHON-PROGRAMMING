{
 "cells": [
  {
   "cell_type": "markdown",
   "id": "d3c2f0ad-95f0-44fb-83cc-a5bd2d376727",
   "metadata": {},
   "source": [
    "# 1st Long Exam 09-10-25"
   ]
  },
  {
   "cell_type": "markdown",
   "id": "b6a059ed-3369-4e71-9f1c-aac328ab580b",
   "metadata": {},
   "source": [
    "# Jessa Dinopol ID:23788938"
   ]
  },
  {
   "cell_type": "markdown",
   "id": "b32b31f5-4d8d-4f74-9fc7-e2da4df26023",
   "metadata": {},
   "source": [
    "# Question 1"
   ]
  },
  {
   "cell_type": "code",
   "execution_count": 1,
   "id": "29b14e14-2b1f-4b82-9a9e-90de698017bb",
   "metadata": {},
   "outputs": [
    {
     "name": "stdin",
     "output_type": "stream",
     "text": [
      "Enter Name: Jessa\n"
     ]
    },
    {
     "name": "stdout",
     "output_type": "stream",
     "text": [
      "Hello Jessa\n"
     ]
    }
   ],
   "source": [
    "name = input (\"Enter Name:\")\n",
    "print(\"Hello\", name)"
   ]
  },
  {
   "cell_type": "markdown",
   "id": "eb2384c6-9d83-4439-be79-5a2451381897",
   "metadata": {},
   "source": [
    "# Question 2"
   ]
  },
  {
   "cell_type": "code",
   "execution_count": 2,
   "id": "7bf7ad3d-67a8-4033-81ca-448e6765fcaf",
   "metadata": {},
   "outputs": [
    {
     "name": "stdin",
     "output_type": "stream",
     "text": [
      "Enter a positive integer:  22\n"
     ]
    },
    {
     "name": "stdout",
     "output_type": "stream",
     "text": [
      "The sum form 1 to  22 is 506\n"
     ]
    }
   ],
   "source": [
    "n = int (input(\"Enter a positive integer: \"))\n",
    "s = n * (n + 1)\n",
    "print(\"The sum form 1 to \", n, \"is\", s)"
   ]
  },
  {
   "cell_type": "markdown",
   "id": "3ce0c580-277c-4a1b-8f5d-20e300c02123",
   "metadata": {},
   "source": [
    "# Question 3"
   ]
  },
  {
   "cell_type": "markdown",
   "id": "4c9941dd-7880-45b8-aa2d-32b1d84c275e",
   "metadata": {},
   "source": [
    "# Question 4"
   ]
  },
  {
   "cell_type": "markdown",
   "id": "9c5a404f-529b-4166-842d-2487e08a67f0",
   "metadata": {},
   "source": [
    "# Question 5"
   ]
  },
  {
   "cell_type": "code",
   "execution_count": 4,
   "id": "77a9e5c7-29a0-4b36-a802-a9319ff868ee",
   "metadata": {},
   "outputs": [
    {
     "ename": "SyntaxError",
     "evalue": "expected ':' (1404800591.py, line 3)",
     "output_type": "error",
     "traceback": [
      "\u001b[1;36m  Cell \u001b[1;32mIn[4], line 3\u001b[1;36m\u001b[0m\n\u001b[1;33m    def hypotenuse(){\u001b[0m\n\u001b[1;37m                    ^\u001b[0m\n\u001b[1;31mSyntaxError\u001b[0m\u001b[1;31m:\u001b[0m expected ':'\n"
     ]
    }
   ],
   "source": [
    "lengthOne = float(input(\"Enter lengthOne:\"))\n",
    "lengthTwo = float(input(\"Enter lengthTwo:\"))\n",
    "def hypotenuse(){\n",
    "    hypotenuse = (lengthOne x lengthOne + lengthTwo x lengthTwo) .5\n",
    "    return hypotenuse\n",
    "main\n",
    "print(\"The lengths of the shorter sides of a right triangle are \", lengthOne + \" \" + lengthTwo)\n",
    "print(\" The hypotenuse of triangle is \",hypotenuse(lengthOne,lengthTwo))"
   ]
  },
  {
   "cell_type": "code",
   "execution_count": null,
   "id": "54cbd1a7-4aee-4d83-8f80-8a101560be1c",
   "metadata": {},
   "outputs": [],
   "source": []
  }
 ],
 "metadata": {
  "kernelspec": {
   "display_name": "Python 3 (ipykernel)",
   "language": "python",
   "name": "python3"
  },
  "language_info": {
   "codemirror_mode": {
    "name": "ipython",
    "version": 3
   },
   "file_extension": ".py",
   "mimetype": "text/x-python",
   "name": "python",
   "nbconvert_exporter": "python",
   "pygments_lexer": "ipython3",
   "version": "3.13.5"
  }
 },
 "nbformat": 4,
 "nbformat_minor": 5
}
