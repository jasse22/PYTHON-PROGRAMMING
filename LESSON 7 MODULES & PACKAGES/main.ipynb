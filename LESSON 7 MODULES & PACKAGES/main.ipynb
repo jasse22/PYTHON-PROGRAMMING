{
 "cells": [
  {
   "cell_type": "code",
   "execution_count": 7,
   "id": "3adfe4dc-b7f3-4cab-bde7-68475ff6a1b2",
   "metadata": {},
   "outputs": [
    {
     "name": "stdout",
     "output_type": "stream",
     "text": [
      "Hello Yvone!\n"
     ]
    }
   ],
   "source": [
    "import greeter\n",
    "\n",
    "greeter.greet(\"Yvone\")"
   ]
  },
  {
   "cell_type": "code",
   "execution_count": 8,
   "id": "c819ece3-2a3e-472a-8085-f6c5396113c7",
   "metadata": {},
   "outputs": [
    {
     "name": "stdout",
     "output_type": "stream",
     "text": [
      "Hello Real Python!\n"
     ]
    }
   ],
   "source": [
    "from greeter import greet\n",
    "\n",
    "greet(\"Real Python\")"
   ]
  },
  {
   "cell_type": "code",
   "execution_count": 14,
   "id": "845ed269-d795-450e-94ba-c80ee6707c97",
   "metadata": {},
   "outputs": [
    {
     "name": "stdout",
     "output_type": "stream",
     "text": [
      " THE AREA OF A 5-BY-8 RECTANGLE IS 40\n"
     ]
    }
   ],
   "source": [
    "from Package_Exercise.string import shout\n",
    "from Package_Exercise.math import area\n",
    "\n",
    "name = shout(\"rectangle\")\n",
    "product = area(5,8)\n",
    "print(f\" THE AREA OF A 5-BY-8 {name} IS {product}\")"
   ]
  },
  {
   "cell_type": "code",
   "execution_count": null,
   "id": "d884d02d-31da-4f4d-927f-774eb2aa0a07",
   "metadata": {},
   "outputs": [],
   "source": []
  }
 ],
 "metadata": {
  "kernelspec": {
   "display_name": "Python [conda env:ANCONDA]",
   "language": "python",
   "name": "conda-env-ANCONDA-py"
  },
  "language_info": {
   "codemirror_mode": {
    "name": "ipython",
    "version": 3
   },
   "file_extension": ".py",
   "mimetype": "text/x-python",
   "name": "python",
   "nbconvert_exporter": "python",
   "pygments_lexer": "ipython3",
   "version": "3.13.5"
  }
 },
 "nbformat": 4,
 "nbformat_minor": 5
}
