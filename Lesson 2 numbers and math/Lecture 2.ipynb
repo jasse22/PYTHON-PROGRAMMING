{
 "cells": [
  {
   "cell_type": "markdown",
   "id": "d50a6f70-90f1-457c-aac2-89e913204dc6",
   "metadata": {},
   "source": [
    "# Lecture 2"
   ]
  },
  {
   "cell_type": "markdown",
   "id": "c177f5f1-085a-476b-acd9-d98f767c09dc",
   "metadata": {},
   "source": [
    "# Review Question 1"
   ]
  },
  {
   "cell_type": "code",
   "execution_count": 4,
   "id": "7c53cfd5-8af5-447d-b0f6-e2064c3b1399",
   "metadata": {},
   "outputs": [
    {
     "name": "stdout",
     "output_type": "stream",
     "text": [
      "25000000\n",
      "25000000\n"
     ]
    }
   ],
   "source": [
    "#1. Write a script that creates the two variables , num1 and num2. Both num1 and num2 should be assigned the integer literal 25,000,000, one written with underscored and one without. Print num1 and num2 on two separate lines.\n",
    "num1 = 25000000\n",
    "num2 = 25_000_000\n",
    "\n",
    "print(num1)  \n",
    "print(num2) "
   ]
  },
  {
   "cell_type": "code",
   "execution_count": 6,
   "id": "16752b52-3cd5-4370-92ec-a73c9d313db6",
   "metadata": {},
   "outputs": [
    {
     "name": "stdout",
     "output_type": "stream",
     "text": [
      "175000.0\n"
     ]
    }
   ],
   "source": [
    "#2. Write a script that assigns the floating-point literal 175000.0 to the variable num using exponential notation, and then prints num.\n",
    "num = 1.75e5\n",
    "print(num)  \n"
   ]
  },
  {
   "cell_type": "code",
   "execution_count": 7,
   "id": "db3a063d-8f0d-434e-998e-fb7e64947b66",
   "metadata": {},
   "outputs": [
    {
     "name": "stdout",
     "output_type": "stream",
     "text": [
      "The smallest exponent N is 308\n"
     ]
    }
   ],
   "source": [
    "#3. Try and find the smallest exponent N so that 2e<N>, where <N> is replaced with your number, returns inf.\n",
    "N = 0\n",
    "while True:\n",
    "    try:\n",
    "        val = float(f\"2e{N}\")\n",
    "        if val == float('inf'):\n",
    "            print(f\"The smallest exponent N is {N}\")\n",
    "            break\n",
    "    except OverflowError:\n",
    "        print(f\"The smallest exponent N causing overflow is {N}\")\n",
    "        break\n",
    "    N += 1"
   ]
  },
  {
   "cell_type": "markdown",
   "id": "97fd6780-204e-4845-967f-8b20ad881727",
   "metadata": {},
   "source": [
    "# Review Question 2"
   ]
  },
  {
   "cell_type": "code",
   "execution_count": 10,
   "id": "00cffe90-e755-4f9b-97db-b3625c3c3ff8",
   "metadata": {},
   "outputs": [
    {
     "name": "stdin",
     "output_type": "stream",
     "text": [
      " Enter a base:  1.2\n",
      " Enter an exponent number:  3\n"
     ]
    },
    {
     "name": "stdout",
     "output_type": "stream",
     "text": [
      " 1.2 raised to the power of 3.0 = 1.7279999999999998\n"
     ]
    }
   ],
   "source": [
    "#1. Write a script called exponent.py that receives two numbers from the user and displays the first number raised to the power of the second number.\n",
    "base = float(input(\" Enter a base: \"))\n",
    "exponent = float(input(\" Enter an exponent number: \"))\n",
    "result = base ** exponent\n",
    "\n",
    "print(f\" {base} raised to the power of {exponent} = {result}\")\n"
   ]
  },
  {
   "cell_type": "markdown",
   "id": "7c51bdb3-43cf-4185-a793-f88ff6e5c037",
   "metadata": {},
   "source": [
    "# Review Question 3"
   ]
  },
  {
   "cell_type": "code",
   "execution_count": 13,
   "id": "51e24dbc-a6bd-4e4d-aa1d-de9c60524690",
   "metadata": {},
   "outputs": [
    {
     "name": "stdin",
     "output_type": "stream",
     "text": [
      "Enter a number:  5.432\n"
     ]
    },
    {
     "name": "stdout",
     "output_type": "stream",
     "text": [
      "5.432 rounded to 2 decimal places is 5.43\n"
     ]
    }
   ],
   "source": [
    "#1. Write a script that asks the user to input a number and then displays that number rounded to two decimal places.\n",
    "num = float(input(\"Enter a number: \"))\n",
    "rounded_num = round(num, 2)\n",
    "\n",
    "print(f\"{num} rounded to 2 decimal places is {rounded_num}\")\n"
   ]
  },
  {
   "cell_type": "code",
   "execution_count": 15,
   "id": "18532862-c8c8-443a-b18b-22f82fa3f68b",
   "metadata": {},
   "outputs": [
    {
     "name": "stdin",
     "output_type": "stream",
     "text": [
      "Enter a number (positive or negative):  -10\n"
     ]
    },
    {
     "name": "stdout",
     "output_type": "stream",
     "text": [
      "The absolute value of -10 is 10.0\n"
     ]
    }
   ],
   "source": [
    "#2. Write a script that asks the user to input a number and then displays the absolute value of that number.\n",
    "num = float(input(\"Enter a number (positive or negative): \"))\n",
    "abs_num = abs(num)\n",
    "\n",
    "print(f\"The absolute value of -10 is {abs_num}\")\n"
   ]
  },
  {
   "cell_type": "markdown",
   "id": "a40b6506-c97b-47da-a582-08e99d51d61b",
   "metadata": {},
   "source": [
    "# Review Question 4"
   ]
  },
  {
   "cell_type": "code",
   "execution_count": 19,
   "id": "1ebef47d-f69d-430e-9b90-d505841f4810",
   "metadata": {},
   "outputs": [
    {
     "name": "stdin",
     "output_type": "stream",
     "text": [
      "Enter the first number:  1.5\n",
      "Enter another number:  1.0\n"
     ]
    },
    {
     "name": "stdout",
     "output_type": "stream",
     "text": [
      "The difference between 1.5 and 1.0 is 0.5, which is NOT an integer.\n"
     ]
    }
   ],
   "source": [
    "#1. Write a script that asks the user to input two numbers by using the input() function twice, then display whether or not the difference between those two number is an integer.\n",
    "num1 = float(input(\"Enter the first number: \"))\n",
    "num2 = float(input(\"Enter another number: \"))\n",
    "diff = abs(num1 - num2)\n",
    "\n",
    "if diff.is_integer():\n",
    "    print(f\"The difference between {num1} and {num2} is {diff}, which is an integer!\")\n",
    "else:\n",
    "    print(f\"The difference between {num1} and {num2} is {diff}, which is NOT an integer.\")\n"
   ]
  },
  {
   "cell_type": "markdown",
   "id": "736f0aaf-f1d4-4d11-8c08-876115a5dd1f",
   "metadata": {},
   "source": [
    "# Review Question 5"
   ]
  },
  {
   "cell_type": "code",
   "execution_count": 20,
   "id": "6b04cac4-6268-4202-99d6-e8d6232d4f95",
   "metadata": {},
   "outputs": [
    {
     "name": "stdout",
     "output_type": "stream",
     "text": [
      "1.147\n"
     ]
    }
   ],
   "source": [
    "#1. Print the result of the calculation 3 ** .125 as a fixed-point number with three decimal places.\n",
    "result = 3 ** 0.125\n",
    "print(f\"{result:.3f}\")  # Example output: 1.147\n",
    "\n"
   ]
  },
  {
   "cell_type": "code",
   "execution_count": 21,
   "id": "0fe1b9a4-a12c-49e0-bf1e-a03fb7653cea",
   "metadata": {},
   "outputs": [
    {
     "name": "stdout",
     "output_type": "stream",
     "text": [
      "$150,000.00\n"
     ]
    }
   ],
   "source": [
    "#2. Print the number 150000 as currency, with the thousands grouped with commas. Currency should be displayed with two decimal places.\n",
    "amount = 150000\n",
    "print(f\"${amount:,.2f}\")  # Example output: $150,000.00\n"
   ]
  },
  {
   "cell_type": "code",
   "execution_count": 23,
   "id": "1e012cd2-4c5c-4fcb-b5d3-8d26ec2ca04c",
   "metadata": {},
   "outputs": [
    {
     "name": "stdout",
     "output_type": "stream",
     "text": [
      "20%\n"
     ]
    }
   ],
   "source": [
    "#3. Print the result of 2 / 10 as a percentage with no decimal places. The output should look like 20%.\n",
    "percentage = 2 / 10\n",
    "print(f\"{percentage:.0%}\")  # Example output: 20%\n"
   ]
  },
  {
   "cell_type": "code",
   "execution_count": null,
   "id": "e642b515-7cfa-49d7-bcdd-8992d8caeffd",
   "metadata": {},
   "outputs": [],
   "source": []
  }
 ],
 "metadata": {
  "kernelspec": {
   "display_name": "Python 3 (ipykernel)",
   "language": "python",
   "name": "python3"
  },
  "language_info": {
   "codemirror_mode": {
    "name": "ipython",
    "version": 3
   },
   "file_extension": ".py",
   "mimetype": "text/x-python",
   "name": "python",
   "nbconvert_exporter": "python",
   "pygments_lexer": "ipython3",
   "version": "3.13.5"
  }
 },
 "nbformat": 4,
 "nbformat_minor": 5
}
