{
 "cells": [
  {
   "cell_type": "markdown",
   "id": "6a0a9d49-fda1-4ce0-8432-0fc635a4d4c1",
   "metadata": {},
   "source": [
    "# Lesson 6"
   ]
  },
  {
   "cell_type": "markdown",
   "id": "bcfdd77c-71e3-4169-b2e7-4060c293ef96",
   "metadata": {},
   "source": [
    "# REVIEW EXERCISES"
   ]
  },
  {
   "cell_type": "code",
   "execution_count": 2,
   "id": "4b592958-dc79-4f88-b6f1-2ba887d893ef",
   "metadata": {},
   "outputs": [
    {
     "name": "stdout",
     "output_type": "stream",
     "text": [
      "Philo's coat is brown.\n"
     ]
    }
   ],
   "source": [
    "#1.Modify the dog class to include a third instnce attribute called coat_color that stores the color of the dog's coat as a string, store your new class in a script and test it out by adding the following code at the bottom of the script:\n",
    "# philo = Dog(\"Philo\", 5. \"Brown\")\n",
    "# print(f\"{philo.name}'s coat if {philo.coat_color}.\")\n",
    "# The output of your script should be:\n",
    "\n",
    "# Philo's coat is brown.\n",
    "\n",
    "class Dog:\n",
    "    def __init__(self, name, age, coat_color):\n",
    "        self.name = name\n",
    "        self.age = age\n",
    "        self.coat_color = coat_color\n",
    "\n",
    "philo = Dog(\"Philo\", 5, \"Brown\")\n",
    "\n",
    "print(f\"{philo.name}'s coat is {philo.coat_color.lower()}.\")\n"
   ]
  },
  {
   "cell_type": "code",
   "execution_count": 3,
   "id": "3f8fa413-1bb4-4a5f-b78e-9f4bf250433e",
   "metadata": {},
   "outputs": [
    {
     "name": "stdout",
     "output_type": "stream",
     "text": [
      "The blue car has 20,000 miles.\n",
      "The red car has 30,000 miles.\n"
     ]
    }
   ],
   "source": [
    "#2. Create a car class with two instance attributes: .color, which stores the name of the car's color as a string, and .mileage, which stores the number of miles on the car as an integer. Then instantiate two car onjects a blue car with 20,000 miles, and a red car with 30.000 miles, and print out their colors and mileage.Your output should look like the following.\n",
    "# The blue car has 20,000 miles.\n",
    "# The red car has 30,000 miles.\n",
    "\n",
    "class Car:\n",
    "    def __init__(self, color, mileage):\n",
    "        self.color = color\n",
    "        self.mileage = mileage\n",
    "\n",
    "blue_car = Car(\"blue\", 20000)\n",
    "red_car = Car(\"red\", 30000)\n",
    "\n",
    "print(f\"The {blue_car.color} car has {blue_car.mileage:,} miles.\")\n",
    "print(f\"The {red_car.color} car has {red_car.mileage:,} miles.\")\n"
   ]
  },
  {
   "cell_type": "code",
   "execution_count": 5,
   "id": "2277f705-3e92-4b72-a6a3-a1272c0ab9ab",
   "metadata": {},
   "outputs": [
    {
     "name": "stdout",
     "output_type": "stream",
     "text": [
      "The car's mileage is now 100 miles.\n"
     ]
    }
   ],
   "source": [
    "#3. Modify the car class with an instance method called .drive() that takes a number as an argument and adds that number to the .mileage attribute. Test that your solution works by instantiating a car with 0 miles, then call .drive(100) and print the .mileage attribute to check that it is set to 100.\n",
    "\n",
    "class Car:\n",
    "    def __init__(self, color, mileage):\n",
    "        self.color = color\n",
    "        self.mileage = mileage\n",
    "\n",
    "    def drive(self, miles):\n",
    "        self.mileage += miles\n",
    "\n",
    "my_car = Car(\"blue\", 0)  # start with 0 miles\n",
    "my_car.drive(100)         # drive 100 miles\n",
    "\n",
    "print(f\"The car's mileage is now {my_car.mileage} miles.\")\n"
   ]
  },
  {
   "cell_type": "markdown",
   "id": "c8af9560-a500-43f3-8c42-2e953c23f413",
   "metadata": {},
   "source": [
    "# REVIEW EXERCISES 2"
   ]
  },
  {
   "cell_type": "code",
   "execution_count": 7,
   "id": "384b9b75-f879-4d37-a336-f4c9e57298b9",
   "metadata": {},
   "outputs": [
    {
     "name": "stdout",
     "output_type": "stream",
     "text": [
      "Jaguar says Bark\n"
     ]
    }
   ],
   "source": [
    "#1. Create a golden retriever class that inherits from the dog class. Give the sound argument of the golden retriever. Speak() method a default value of \"Bark\". Use the following code for your parent dog class:\n",
    "# class Dog:\n",
    "# species = \"Canis familiaris\"\n",
    "# def__init__(self, name, age):\n",
    "#      self.name = name\n",
    "#      self.age = age\n",
    "# def__str__(self):\n",
    "#      return f\"{self.name} is {self.age} years old\"\n",
    "# def speak(self, sound):\n",
    "#     return f\"{self.name} says {sound}\"\n",
    "\n",
    "\n",
    "class Dog:\n",
    "    species = \"Canis familiaris\"\n",
    "\n",
    "    def __init__(self, name, age):\n",
    "        self.name = name\n",
    "        self.age = age\n",
    "\n",
    "    def __str__(self):\n",
    "        return f\"{self.name} is {self.age} years old\"\n",
    "\n",
    "    def speak(self, sound):\n",
    "        return f\"{self.name} says {sound}\"\n",
    "\n",
    "\n",
    "# Child class: GoldenRetriever inherits from Dog\n",
    "class GoldenRetriever(Dog):\n",
    "    def speak(self, sound=\"Bark\"):\n",
    "        return f\"{self.name} says {sound}\"\n",
    "\n",
    "\n",
    "# Test the class\n",
    "jaguar = GoldenRetriever(\"Jaguar\", 11)\n",
    "print(jaguar.speak())\n"
   ]
  },
  {
   "cell_type": "code",
   "execution_count": 9,
   "id": "85418139-1b69-4803-8756-3dc848bdf5a2",
   "metadata": {},
   "outputs": [
    {
     "name": "stdout",
     "output_type": "stream",
     "text": [
      "The Area of square with side length is 4 : 16\n"
     ]
    }
   ],
   "source": [
    "#2. Write a rectangle class that must be instantiated with two at tributed: Length and width. add a .area() method to the class that returns the area (length * width) of the rectangle. Then write a square class that inherits from the rectangle class and that is instantiated with a single attribute called side_length. Test your square class by instantiating a square with a side_length of 4. Calling the .area() method should return 16.\n",
    "\n",
    "\n",
    "class Rectangle:\n",
    "    def __init__(self, length, width):\n",
    "        self.length = length\n",
    "        self.width = width\n",
    "\n",
    "    def area(self):\n",
    "        return self.length * self.width\n",
    "\n",
    "\n",
    "class Square(Rectangle):\n",
    "    def __init__(self, side_length):\n",
    "        super().__init__(side_length, side_length)\n",
    "\n",
    "\n",
    "square = Square(4)\n",
    "print(f\"The Area of square with side length is 4 : {square.area()}\")\n"
   ]
  },
  {
   "cell_type": "markdown",
   "id": "e294eab9-07ec-4409-a0ff-90a8a7c51ab7",
   "metadata": {},
   "source": [
    "# CHALLENGE: MODEL A FARM"
   ]
  },
  {
   "cell_type": "code",
   "execution_count": 14,
   "id": "8ef41c17-ed03-48cb-85db-38a9b6b374df",
   "metadata": {},
   "outputs": [
    {
     "name": "stdout",
     "output_type": "stream",
     "text": [
      "Name: Jaguar, Age: 5, Breed: Shih tzu\n",
      "Jaguar is eating.\n",
      "Jaguar is walking around.\n",
      "Jaguar the Shih tzu is barking loudly!\n",
      "\n",
      "\n",
      "Name: Minnie, Age: 2, Color: Black\n",
      "Minnie, the Black cat, is so cute.\n",
      "Minnie is eating.\n",
      "\n",
      "\n",
      "Name: Tweety, Age: 1, Species: Canary\n",
      "Tweety the Canary is flying high in the sky!\n",
      "Tweety is eating.\n"
     ]
    }
   ],
   "source": [
    "#1. You should have at least four classes: The parent animal class, and then at least three child animal classes that inherit  from animal.\n",
    "#2. Each class should have a few attributes and at least one method that models some behavior appropriate for a specific animal or all animals such as walking, running, eating, sleeping, and so on.\n",
    "#3. Keep it simple. Utilize inheritance.make sure you output details about the animals and their behaviors.\n",
    "\n",
    "\n",
    "\n",
    "# 1. Parent Class\n",
    "class Animal:\n",
    "    def __init__(self, name, age):\n",
    "        self.name = name\n",
    "        self.age = age\n",
    "\n",
    "    def eat(self):\n",
    "        print(f\"{self.name} is eating.\")\n",
    "\n",
    "    def walk(self):\n",
    "        print(f\"{self.name} is walking around.\")\n",
    "\n",
    "\n",
    "# 2. Child Class 1 - Dog\n",
    "class Dog(Animal):\n",
    "    def __init__(self, name, age, breed):\n",
    "        super().__init__(name, age)\n",
    "        self.breed = breed\n",
    "\n",
    "    def bark(self):\n",
    "        print(f\"{self.name} the {self.breed} is barking loudly!\")\n",
    "\n",
    "\n",
    "# 3. Child Class 2 - Cat\n",
    "class Cat(Animal):\n",
    "    def __init__(self, name, age, color):\n",
    "        super().__init__(name, age)\n",
    "        self.color = color\n",
    "\n",
    "    def meow(self):\n",
    "        print(f\"{self.name}, the {self.color} cat, is so cute.\")\n",
    "\n",
    "\n",
    "# 4. Child Class 3 - Bird\n",
    "class Bird(Animal):\n",
    "    def __init__(self, name, age, species):\n",
    "        super().__init__(name, age)\n",
    "        self.species = species\n",
    "\n",
    "    def fly(self):\n",
    "        print(f\"{self.name} the {self.species} is flying high in the sky!\")\n",
    "\n",
    "\n",
    "# --- OUTPUT SECTION ---\n",
    "\n",
    "# Create objects for each animal\n",
    "dog = Dog(\"Jaguar\", 5, \"Shih tzu\")\n",
    "cat = Cat(\"Minnie\", 2, \"Black\")\n",
    "bird = Bird(\"Tweety\", 1, \"Canary\")\n",
    "\n",
    "# Display details and behaviors\n",
    "print(f\"Name: {dog.name}, Age: {dog.age}, Breed: {dog.breed}\")\n",
    "dog.eat()\n",
    "dog.walk()\n",
    "dog.bark()\n",
    "\n",
    "print(\"\\n\")\n",
    "print(f\"Name: {cat.name}, Age: {cat.age}, Color: {cat.color}\")\n",
    "cat.meow()\n",
    "cat.eat()\n",
    "\n",
    "print(\"\\n\")\n",
    "print(f\"Name: {bird.name}, Age: {bird.age}, Species: {bird.species}\")\n",
    "bird.fly()\n",
    "bird.eat()\n"
   ]
  },
  {
   "cell_type": "code",
   "execution_count": null,
   "id": "cab2437f-7675-4079-8dcc-dbf5c1711e35",
   "metadata": {},
   "outputs": [],
   "source": []
  }
 ],
 "metadata": {
  "kernelspec": {
   "display_name": "Python [conda env:base] *",
   "language": "python",
   "name": "conda-base-py"
  },
  "language_info": {
   "codemirror_mode": {
    "name": "ipython",
    "version": 3
   },
   "file_extension": ".py",
   "mimetype": "text/x-python",
   "name": "python",
   "nbconvert_exporter": "python",
   "pygments_lexer": "ipython3",
   "version": "3.13.5"
  }
 },
 "nbformat": 4,
 "nbformat_minor": 5
}
