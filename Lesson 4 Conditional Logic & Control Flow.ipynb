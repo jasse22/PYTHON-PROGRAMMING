{
 "cells": [
  {
   "cell_type": "markdown",
   "id": "80f80fa7-9183-4428-9b98-de4fb447d028",
   "metadata": {},
   "source": [
    "# Lesson 4"
   ]
  },
  {
   "cell_type": "markdown",
   "id": "a83b521d-8d63-482d-95ea-2bcea240898b",
   "metadata": {},
   "source": [
    "# Review Question 1"
   ]
  },
  {
   "cell_type": "code",
   "execution_count": 2,
   "id": "55394002-0dc5-405a-9fa5-7aca5fbe3722",
   "metadata": {},
   "outputs": [
    {
     "name": "stdout",
     "output_type": "stream",
     "text": [
      "True\n",
      "False\n",
      "True\n",
      "True\n",
      "True\n",
      "False\n"
     ]
    }
   ],
   "source": [
    "#1. For each of the following conditional expressions, guess whether they evaluate to True or False. Then type them into the interactive window to check your answers:\n",
    "# 1 <= 1\n",
    "# 1 != 1\n",
    "# 1 != 2\n",
    "# \"good\" != \"bad\"\n",
    "# \"good\" != \"Good\"\n",
    "# 123 == \"123\"\n",
    "\n",
    "print(1 <= 1)       \n",
    "print(1 != 1)       \n",
    "print(1 != 2)       \n",
    "print(\"good\" != \"bad\")   \n",
    "print(\"good\" != \"Good\")  \n",
    "print(123 == \"123\")     \n"
   ]
  },
  {
   "cell_type": "code",
   "execution_count": null,
   "id": "bd4a6f62-df55-41b7-abdd-ebcb2711ae0b",
   "metadata": {},
   "outputs": [],
   "source": []
  },
  {
   "cell_type": "code",
   "execution_count": 4,
   "id": "172aca32-b626-44f6-9836-236760e3a3ae",
   "metadata": {},
   "outputs": [
    {
     "name": "stdout",
     "output_type": "stream",
     "text": [
      "True\n",
      "True\n",
      "True\n",
      "True\n"
     ]
    }
   ],
   "source": [
    "#2. For each of the following expressions, fill in the blanks (indicated by _) with an appropriate boolean comparator so that the expression evaluates to True:\n",
    "# 3 _ 4\n",
    "# 10 _ 5\n",
    "# \"jack\" _ \"jill\"\n",
    "# 42 _ \"42\"\n",
    "\n",
    "print(3 < 4)          \n",
    "print(10 > 5)         \n",
    "print(\"jack\" < \"jill\") \n",
    "print(42 != \"42\")      \n"
   ]
  },
  {
   "cell_type": "markdown",
   "id": "1e65ba12-4811-4140-bf8c-34fb2fa386f1",
   "metadata": {},
   "source": [
    "# Review Question 2"
   ]
  },
  {
   "cell_type": "code",
   "execution_count": 5,
   "id": "e321fcde-f2b8-4ced-94c4-1e385c2389e3",
   "metadata": {},
   "outputs": [
    {
     "name": "stdout",
     "output_type": "stream",
     "text": [
      "False\n",
      "False\n",
      "True\n",
      "False\n"
     ]
    }
   ],
   "source": [
    "#1. Figure out what the result will be (True or False) when evaluating the following expressions, then type them into the interactive window to check your answers:\n",
    "# (1 <= 1) and (1 != 1)\n",
    "# not (1 != 2)\n",
    "# (\"good\" != \"bad\") or False\n",
    "# (\"good\" != \"Good\") and not (1 == 1)\n",
    "\n",
    "print((1 <= 1) and (1 != 1))         \n",
    "print(not (1 != 2))                  \n",
    "print((\"good\" != \"bad\") or False)    \n",
    "print((\"good\" != \"Good\") and not (1 == 1))  \n"
   ]
  },
  {
   "cell_type": "code",
   "execution_count": 6,
   "id": "6b48c043-385d-4622-a0b6-7ebbad6b769c",
   "metadata": {},
   "outputs": [
    {
     "name": "stdout",
     "output_type": "stream",
     "text": [
      "True\n",
      "True\n",
      "True\n"
     ]
    }
   ],
   "source": [
    "#2. Add parentheses where necessary so that each of the following expressions evaluates to True:\n",
    "# False == not True\n",
    "# True and False == True and False\n",
    "# not True and \"A\" == \"B\"\n",
    "\n",
    "print(False == (not True))                     \n",
    "print((True and False) == (True and False))     \n",
    "print(not (True and (\"A\" == \"B\")))              \n"
   ]
  },
  {
   "cell_type": "markdown",
   "id": "ab0eeec9-0673-408c-ba56-1ba820e19908",
   "metadata": {},
   "source": [
    "# Review Question 3"
   ]
  },
  {
   "cell_type": "code",
   "execution_count": 7,
   "id": "9a4f33a1-512e-4866-816c-3e2a524e55fb",
   "metadata": {},
   "outputs": [
    {
     "name": "stdin",
     "output_type": "stream",
     "text": [
      "Enter a word:  christian\n"
     ]
    },
    {
     "name": "stdout",
     "output_type": "stream",
     "text": [
      "The word has more than 5 characters.\n"
     ]
    }
   ],
   "source": [
    "# 1. Write a script that prompts the user to enter a word using the input[] function, stores that input in a variable, and then displays whether the length of that string is less than 5 characters, greater than 5 characters, or equal to 5 characters by using a set of if, elif and else statements.\n",
    "\n",
    "# Prompt the user for a word\n",
    "word = input(\"Enter a word: \")\n",
    "\n",
    "# Check the length of the word\n",
    "if len(word) < 5:\n",
    "    print(\"The word has less than 5 characters.\")\n",
    "elif len(word) > 5:\n",
    "    print(\"The word has more than 5 characters.\")\n",
    "else:\n",
    "    print(\"The word has exactly 5 characters.\")\n"
   ]
  },
  {
   "cell_type": "markdown",
   "id": "fcbb4cfc-1350-4d92-a0a3-71eefac14bd3",
   "metadata": {},
   "source": [
    "# Review Question 4"
   ]
  },
  {
   "cell_type": "code",
   "execution_count": 9,
   "id": "3c82cc49-8cca-4764-a780-3dfdff9fd437",
   "metadata": {},
   "outputs": [
    {
     "name": "stdin",
     "output_type": "stream",
     "text": [
      "Enter something (Press Q to Quit):  hello\n"
     ]
    },
    {
     "name": "stdout",
     "output_type": "stream",
     "text": [
      "You entered: hello\n"
     ]
    },
    {
     "name": "stdin",
     "output_type": "stream",
     "text": [
      "Enter something (Press Q to Quit):  q\n"
     ]
    },
    {
     "name": "stdout",
     "output_type": "stream",
     "text": [
      "Exiting program...\n"
     ]
    }
   ],
   "source": [
    "#1. Using break, write a program that repeatedly asks the user for some input and only quits if the user enters \"Q\" or \"Q\".\n",
    "\n",
    "while True:\n",
    "    user_input = input(\"Enter something (Press Q to Quit): \")\n",
    "    \n",
    "    if user_input == \"Q\" or user_input == \"q\":\n",
    "        print(\"Exiting program...\")\n",
    "        break   # stops the loop\n",
    "    \n",
    "    print(\"You entered:\", user_input)\n"
   ]
  },
  {
   "cell_type": "code",
   "execution_count": 10,
   "id": "074843f0-d395-428f-a8c6-f56005b0c1e5",
   "metadata": {},
   "outputs": [
    {
     "name": "stdout",
     "output_type": "stream",
     "text": [
      "1\n",
      "2\n",
      "4\n",
      "5\n",
      "7\n",
      "8\n",
      "10\n",
      "11\n",
      "13\n",
      "14\n",
      "16\n",
      "17\n",
      "19\n",
      "20\n",
      "22\n",
      "23\n",
      "25\n",
      "26\n",
      "28\n",
      "29\n",
      "31\n",
      "32\n",
      "34\n",
      "35\n",
      "37\n",
      "38\n",
      "40\n",
      "41\n",
      "43\n",
      "44\n",
      "46\n",
      "47\n",
      "49\n",
      "50\n"
     ]
    }
   ],
   "source": [
    "#2. Using continue, write a program that loops over the numbers 1 to 50 and prints all numbers that are not multiples of 3.\n",
    "\n",
    "for num in range(1, 51):  # numbers 1 to 50\n",
    "    if num % 3 == 0:\n",
    "        continue   # skip multiples of 3\n",
    "    print(num)\n"
   ]
  },
  {
   "cell_type": "markdown",
   "id": "79b48df5-b330-4724-885e-f24a37c8317c",
   "metadata": {},
   "source": [
    "# Review Question 5"
   ]
  },
  {
   "cell_type": "code",
   "execution_count": 11,
   "id": "3c207aa8-e540-452d-a331-749cdd40c357",
   "metadata": {},
   "outputs": [
    {
     "name": "stdin",
     "output_type": "stream",
     "text": [
      "Enter an integer:  hello\n"
     ]
    },
    {
     "name": "stdout",
     "output_type": "stream",
     "text": [
      "Try Again! That was not an integer.\n"
     ]
    },
    {
     "name": "stdin",
     "output_type": "stream",
     "text": [
      "Enter an integer:  22\n"
     ]
    },
    {
     "name": "stdout",
     "output_type": "stream",
     "text": [
      "You entered: 22\n"
     ]
    }
   ],
   "source": [
    "#1. Write a script that repeatedly asks the user to input an integer, displaying a message to \"Try Again\" by catching the value error that is raised if the user did not enter an integer. Once the user enters in integer, the program should display the number back to the user and end without crashing.\n",
    "\n",
    "while True:\n",
    "    try:\n",
    "        number = int(input(\"Enter an integer: \"))\n",
    "        print(\"You entered:\", number)\n",
    "        break   # stop the loop after a valid integer\n",
    "    except ValueError:\n",
    "        print(\"Try Again! That was not an integer.\")\n"
   ]
  },
  {
   "cell_type": "code",
   "execution_count": 14,
   "id": "aedbbf91-e2ab-4a07-9205-53d6bbfb5503",
   "metadata": {},
   "outputs": [
    {
     "name": "stdin",
     "output_type": "stream",
     "text": [
      "Enter a string:  jessa\n",
      "Enter an index number:  4\n"
     ]
    },
    {
     "name": "stdout",
     "output_type": "stream",
     "text": [
      "Character at index 4 is: a\n"
     ]
    }
   ],
   "source": [
    "#2. Write a program that asks the user to input a string and an integer N. Then display the character at index N in the string.\n",
    "\n",
    "string = input(\"Enter a string: \")\n",
    "n = int(input(\"Enter an index number: \"))\n",
    "\n",
    "if 0 <= n < len(string):\n",
    "    print(\"Character at index\", n, \"is:\", string[n])  #indexing starts at 0.\n",
    "else:\n",
    "    print(\"Index out of range! The string has\", len(string), \"characters.\")\n"
   ]
  },
  {
   "cell_type": "markdown",
   "id": "8b458924-1263-4474-a221-1ef52ef429ee",
   "metadata": {},
   "source": [
    "# Review Question 6"
   ]
  },
  {
   "cell_type": "code",
   "execution_count": 24,
   "id": "5a88e43b-04c1-4bd3-9271-f49c56f7490a",
   "metadata": {},
   "outputs": [
    {
     "name": "stdout",
     "output_type": "stream",
     "text": [
      "You rolled: 3\n"
     ]
    }
   ],
   "source": [
    "#1. Write a function called roll() that uses the randint() function to simulate rolling a fair die by returning a random integer between 1 and 6.\n",
    "\n",
    "import random  # needed for randint()\n",
    "\n",
    "def roll():\n",
    "    return random.randint(1, 6)  # random integer between 1 and 6\n",
    "\n",
    "# Example usage\n",
    "print(\"You rolled:\", roll())\n"
   ]
  },
  {
   "cell_type": "code",
   "execution_count": 25,
   "id": "db1d3ff5-5f51-44a5-a0d2-580bfbc8b534",
   "metadata": {},
   "outputs": [
    {
     "name": "stdout",
     "output_type": "stream",
     "text": [
      "Average of 10,000 rolls: 3.4889\n"
     ]
    }
   ],
   "source": [
    "#2. Write a script that simulates 10,000 rolls of a fair die and displays the average number rolled.\n",
    "\n",
    "import random\n",
    "\n",
    "def roll():\n",
    "    return random.randint(1, 6)\n",
    "\n",
    "# Simulate 10,000 rolls\n",
    "total = 0\n",
    "for i in range(10000):\n",
    "    total += roll()\n",
    "\n",
    "average = total / 10000\n",
    "print(\"Average of 10,000 rolls:\", average)\n"
   ]
  }
 ],
 "metadata": {
  "kernelspec": {
   "display_name": "Python [conda env:base] *",
   "language": "python",
   "name": "conda-base-py"
  },
  "language_info": {
   "codemirror_mode": {
    "name": "ipython",
    "version": 3
   },
   "file_extension": ".py",
   "mimetype": "text/x-python",
   "name": "python",
   "nbconvert_exporter": "python",
   "pygments_lexer": "ipython3",
   "version": "3.13.5"
  }
 },
 "nbformat": 4,
 "nbformat_minor": 5
}
